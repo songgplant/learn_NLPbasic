{
  "nbformat": 4,
  "nbformat_minor": 0,
  "metadata": {
    "colab": {
      "name": "RecommendationSystemWithDoc.ipynb",
      "provenance": [],
      "collapsed_sections": [],
      "authorship_tag": "ABX9TyNrPHERIClamW+eFkowmOyc"
    },
    "kernelspec": {
      "name": "python3",
      "display_name": "Python 3"
    },
    "language_info": {
      "name": "python"
    }
  },
  "cells": [
    {
      "cell_type": "markdown",
      "metadata": {
        "id": "AYBLV-bCqjP4"
      },
      "source": [
        "# 책 추천 시스템\n",
        "책 제목을 넣으면 유사한 책을 리스팅해서 보여줌"
      ]
    },
    {
      "cell_type": "code",
      "metadata": {
        "id": "fV9gsUAQpXO8"
      },
      "source": [
        "!curl -0 https://drive.google.com/file/d/15Q7DZ7xrJsI2Hji-WbkU9j1mwnODBd5A/view?usp=sharing"
      ],
      "execution_count": null,
      "outputs": []
    },
    {
      "cell_type": "code",
      "metadata": {
        "id": "5LpkRDsNpj0T"
      },
      "source": [
        "import pandas as pd"
      ],
      "execution_count": null,
      "outputs": []
    },
    {
      "cell_type": "code",
      "metadata": {
        "colab": {
          "base_uri": "https://localhost:8080/",
          "height": 251
        },
        "id": "CE5PcepZp_Yq",
        "outputId": "b31b8eea-f90b-4b20-8951-ca09077ede20"
      },
      "source": [
        "df_data = pd.read_csv('./0825data.csv')\n",
        "df_data.head(4)"
      ],
      "execution_count": null,
      "outputs": [
        {
          "output_type": "execute_result",
          "data": {
            "text/html": [
              "<div>\n",
              "<style scoped>\n",
              "    .dataframe tbody tr th:only-of-type {\n",
              "        vertical-align: middle;\n",
              "    }\n",
              "\n",
              "    .dataframe tbody tr th {\n",
              "        vertical-align: top;\n",
              "    }\n",
              "\n",
              "    .dataframe thead th {\n",
              "        text-align: right;\n",
              "    }\n",
              "</style>\n",
              "<table border=\"1\" class=\"dataframe\">\n",
              "  <thead>\n",
              "    <tr style=\"text-align: right;\">\n",
              "      <th></th>\n",
              "      <th>Unnamed: 0</th>\n",
              "      <th>Desc</th>\n",
              "      <th>Unnamed: 0.1</th>\n",
              "      <th>author</th>\n",
              "      <th>genre</th>\n",
              "      <th>image_link</th>\n",
              "      <th>rating</th>\n",
              "      <th>title</th>\n",
              "    </tr>\n",
              "  </thead>\n",
              "  <tbody>\n",
              "    <tr>\n",
              "      <th>0</th>\n",
              "      <td>0</td>\n",
              "      <td>We know that power is shifting: From West to E...</td>\n",
              "      <td>0.0</td>\n",
              "      <td>Moisés Naím</td>\n",
              "      <td>Business</td>\n",
              "      <td>https://i.gr-assets.com/images/S/compressed.ph...</td>\n",
              "      <td>3.63</td>\n",
              "      <td>The End of Power: From Boardrooms to Battlefie...</td>\n",
              "    </tr>\n",
              "    <tr>\n",
              "      <th>1</th>\n",
              "      <td>1</td>\n",
              "      <td>Following the success of The Accidental Billio...</td>\n",
              "      <td>1.0</td>\n",
              "      <td>Blake J. Harris</td>\n",
              "      <td>Business</td>\n",
              "      <td>https://i.gr-assets.com/images/S/compressed.ph...</td>\n",
              "      <td>3.94</td>\n",
              "      <td>Console Wars: Sega, Nintendo, and the Battle t...</td>\n",
              "    </tr>\n",
              "    <tr>\n",
              "      <th>2</th>\n",
              "      <td>2</td>\n",
              "      <td>How to tap the power of social software and ne...</td>\n",
              "      <td>2.0</td>\n",
              "      <td>Chris Brogan</td>\n",
              "      <td>Business</td>\n",
              "      <td>https://i.gr-assets.com/images/S/compressed.ph...</td>\n",
              "      <td>3.78</td>\n",
              "      <td>Trust Agents: Using the Web to Build Influence...</td>\n",
              "    </tr>\n",
              "    <tr>\n",
              "      <th>3</th>\n",
              "      <td>3</td>\n",
              "      <td>William J. Bernstein is an American financial ...</td>\n",
              "      <td>3.0</td>\n",
              "      <td>William J. Bernstein</td>\n",
              "      <td>Business</td>\n",
              "      <td>https://i.gr-assets.com/images/S/compressed.ph...</td>\n",
              "      <td>4.20</td>\n",
              "      <td>The Four Pillars of Investing</td>\n",
              "    </tr>\n",
              "  </tbody>\n",
              "</table>\n",
              "</div>"
            ],
            "text/plain": [
              "   Unnamed: 0  ...                                              title\n",
              "0           0  ...  The End of Power: From Boardrooms to Battlefie...\n",
              "1           1  ...  Console Wars: Sega, Nintendo, and the Battle t...\n",
              "2           2  ...  Trust Agents: Using the Web to Build Influence...\n",
              "3           3  ...                      The Four Pillars of Investing\n",
              "\n",
              "[4 rows x 8 columns]"
            ]
          },
          "metadata": {},
          "execution_count": 5
        }
      ]
    },
    {
      "cell_type": "code",
      "metadata": {
        "colab": {
          "base_uri": "https://localhost:8080/"
        },
        "id": "9peK6-OTqcMv",
        "outputId": "342c31c2-836b-4583-d25e-32326e85e35b"
      },
      "source": [
        "df_data.info()"
      ],
      "execution_count": null,
      "outputs": [
        {
          "output_type": "stream",
          "text": [
            "<class 'pandas.core.frame.DataFrame'>\n",
            "RangeIndex: 2382 entries, 0 to 2381\n",
            "Data columns (total 8 columns):\n",
            " #   Column        Non-Null Count  Dtype  \n",
            "---  ------        --------------  -----  \n",
            " 0   Unnamed: 0    2382 non-null   int64  \n",
            " 1   Desc          2382 non-null   object \n",
            " 2   Unnamed: 0.1  1185 non-null   float64\n",
            " 3   author        2382 non-null   object \n",
            " 4   genre         2382 non-null   object \n",
            " 5   image_link    2382 non-null   object \n",
            " 6   rating        2382 non-null   float64\n",
            " 7   title         2382 non-null   object \n",
            "dtypes: float64(2), int64(1), object(5)\n",
            "memory usage: 149.0+ KB\n"
          ],
          "name": "stdout"
        }
      ]
    },
    {
      "cell_type": "code",
      "metadata": {
        "colab": {
          "base_uri": "https://localhost:8080/"
        },
        "id": "HZKaDyWirrBc",
        "outputId": "692cacaf-d66a-4b30-9441-e909afdc3ba9"
      },
      "source": [
        "df_data['Desc'] # 활용할 컬럼 선택"
      ],
      "execution_count": null,
      "outputs": [
        {
          "output_type": "execute_result",
          "data": {
            "text/plain": [
              "0       We know that power is shifting: From West to E...\n",
              "1       Following the success of The Accidental Billio...\n",
              "2       How to tap the power of social software and ne...\n",
              "3       William J. Bernstein is an American financial ...\n",
              "4       Amazing book. And I joined Steve Jobs and many...\n",
              "                              ...                        \n",
              "2377    Ralph Roberts, a sus setenta años y tras la mu...\n",
              "2378    Murder at the Vicarage marks the debut of Agat...\n",
              "2379    In 1951 John Wyndham published his novel The D...\n",
              "2380    This now classic book revealed Flannery O'Conn...\n",
              "2381    Imbued on every page with Frank McCourt's asto...\n",
              "Name: Desc, Length: 2382, dtype: object"
            ]
          },
          "metadata": {},
          "execution_count": 7
        }
      ]
    },
    {
      "cell_type": "markdown",
      "metadata": {
        "id": "wDDkN3XX0AX4"
      },
      "source": [
        "# nltk tokenize를 활용하여 단어 만들기"
      ]
    },
    {
      "cell_type": "markdown",
      "metadata": {
        "id": "KK0kjKPrvi5C"
      },
      "source": [
        "spacebar로 나뉜 단어조합의 문자를 token한 뒤 문장으로 연결.\n",
        "apply()에 넣기 전에 함수를 먼저 만든다."
      ]
    },
    {
      "cell_type": "code",
      "metadata": {
        "id": "H0AZ76kozU7d"
      },
      "source": [
        "from nltk.tokenize import RegexpTokenizer"
      ],
      "execution_count": null,
      "outputs": []
    },
    {
      "cell_type": "code",
      "metadata": {
        "id": "AfIIgjelzYf2"
      },
      "source": [
        "text01 = ' We know that power is shifting: From West to E'\n",
        " \n",
        "def remove_punctuation(text):\n",
        "  tokenizer = RegexpTokenizer('[a-zA-Z]+')  \n",
        "  text_list = tokenizer.tokenize(text)\n",
        "  # print(type(text_list),text_list)\n",
        "  result = ' '.join(text_list) ## string으로 연결된 값이 나옴\n",
        "  # print(type(result),result)\n",
        "  return result"
      ],
      "execution_count": null,
      "outputs": []
    },
    {
      "cell_type": "code",
      "metadata": {
        "colab": {
          "base_uri": "https://localhost:8080/",
          "height": 34
        },
        "id": "bms1bUemzaya",
        "outputId": "46b0b806-a63f-4caa-ae8d-ee460762a349"
      },
      "source": [
        "remove_punctuation(text01)"
      ],
      "execution_count": null,
      "outputs": [
        {
          "output_type": "execute_result",
          "data": {
            "application/vnd.google.colaboratory.intrinsic+json": {
              "type": "string"
            },
            "text/plain": [
              "'We know that power is shifting From West to E'"
            ]
          },
          "metadata": {},
          "execution_count": 36
        }
      ]
    },
    {
      "cell_type": "code",
      "metadata": {
        "id": "nfhNgnYvsKvk"
      },
      "source": [
        "# Tokenizing을 위한 apply 함수 적용\n",
        "# line by line\n",
        "df_data['cleaned'] = df_data['Desc'].apply(remove_punctuation)"
      ],
      "execution_count": null,
      "outputs": []
    },
    {
      "cell_type": "code",
      "metadata": {
        "colab": {
          "base_uri": "https://localhost:8080/"
        },
        "id": "IU_rMBiIwEGC",
        "outputId": "33106cdb-f288-48c7-dde8-4e6ff342e857"
      },
      "source": [
        "df_data.columns"
      ],
      "execution_count": null,
      "outputs": [
        {
          "output_type": "execute_result",
          "data": {
            "text/plain": [
              "Index(['Unnamed: 0', 'Desc', 'Unnamed: 0.1', 'author', 'genre', 'image_link',\n",
              "       'rating', 'title', 'cleaned'],\n",
              "      dtype='object')"
            ]
          },
          "metadata": {},
          "execution_count": 38
        }
      ]
    },
    {
      "cell_type": "code",
      "metadata": {
        "colab": {
          "base_uri": "https://localhost:8080/"
        },
        "id": "eBMEVK8mx5hE",
        "outputId": "ddc20cf9-8de9-4722-ca6c-60edce3d4a5c"
      },
      "source": [
        "df_data['cleaned'].head(5)"
      ],
      "execution_count": null,
      "outputs": [
        {
          "output_type": "execute_result",
          "data": {
            "text/plain": [
              "0    We know that power is shifting From West to Ea...\n",
              "1    Following the success of The Accidental Billio...\n",
              "2    How to tap the power of social software and ne...\n",
              "3    William J Bernstein is an American financial t...\n",
              "4    Amazing book And I joined Steve Jobs and many ...\n",
              "Name: cleaned, dtype: object"
            ]
          },
          "metadata": {},
          "execution_count": 39
        }
      ]
    },
    {
      "cell_type": "markdown",
      "metadata": {
        "id": "XQnBYvEF30eP"
      },
      "source": [
        "# Pre-Trained"
      ]
    },
    {
      "cell_type": "markdown",
      "metadata": {
        "id": "Zj5PXlSz4rc7"
      },
      "source": [
        "링크를 통해 colab 실행파일 내에 .csv파일을 불러오는 코드"
      ]
    },
    {
      "cell_type": "code",
      "metadata": {
        "colab": {
          "base_uri": "https://localhost:8080/"
        },
        "id": "-ZOQwxDi0Rf_",
        "outputId": "69cb32d9-9639-4b16-a6e5-40e56e433960"
      },
      "source": [
        "!curl -0 https://s3.amazonaws.com/dl4j-distribution/GoogleNews-vectors-negative300.bin.gz"
      ],
      "execution_count": null,
      "outputs": [
        {
          "output_type": "stream",
          "text": [
            "Warning: Binary output can mess up your terminal. Use \"--output -\" to tell \n",
            "Warning: curl to output it to your terminal anyway, or consider \"--output \n",
            "Warning: <FILE>\" to save to a file.\n"
          ],
          "name": "stdout"
        }
      ]
    },
    {
      "cell_type": "code",
      "metadata": {
        "colab": {
          "base_uri": "https://localhost:8080/"
        },
        "id": "pdie1rWN36FL",
        "outputId": "a6bd7238-5aa2-4120-d861-8bd3b23a793a"
      },
      "source": [
        "!curl -O https://s3.amazonaws.com/dl4j-distribution/GoogleNews-vectors-negative300.bin.gz"
      ],
      "execution_count": null,
      "outputs": [
        {
          "output_type": "stream",
          "text": [
            "  % Total    % Received % Xferd  Average Speed   Time    Time     Time  Current\n",
            "                                 Dload  Upload   Total   Spent    Left  Speed\n",
            "100 1570M  100 1570M    0     0  43.5M      0  0:00:36  0:00:36 --:--:-- 44.0M\n"
          ],
          "name": "stdout"
        }
      ]
    },
    {
      "cell_type": "markdown",
      "metadata": {
        "id": "968Zpe-_4xCc"
      },
      "source": [
        "Word2Vec에 필요한 라이브러리 설치"
      ]
    },
    {
      "cell_type": "code",
      "metadata": {
        "id": "w2eVSHWV4BxD"
      },
      "source": [
        "from gensim.models import Word2Vec"
      ],
      "execution_count": null,
      "outputs": []
    },
    {
      "cell_type": "markdown",
      "metadata": {
        "id": "unaUP8AE5YUb"
      },
      "source": [
        "연관성에 의해 새로 자리잡은 단어들. 어떤 데이터를 넣으면, 매칭이 될 뿐이지 새로 자리잡는게 아님. 그 값을 유지시키는 원리<br>\n",
        "free-trade 연관성 높은 단어 중 없는 단어도 있을 것. 내가 수집한 단어를 넣으면 알맞은 위치를 스스로 찾아간다(학습, 교육)"
      ]
    },
    {
      "cell_type": "code",
      "metadata": {
        "id": "wSP-F18F81B7"
      },
      "source": [
        "# space로 분할된 단어를 다시 리스트화\n",
        "corpus = []\n",
        "for words in df_data['cleaned'] :\n",
        "  corpus.append(words.split())\n",
        "type(corpus), corpus[4:8]\n",
        "# 출력 결과 확인\n",
        "# (list,\n",
        "#  [['Amazing',\n",
        "#    'book',\n",
        "#    'And',\n",
        "#    'I',\n",
        "#    'joined',\n",
        "#    'Steve',\n",
        "#    'Jobs',\n",
        "#    'and',\n",
        "#    'many',\n",
        "#    'more',\n",
        "#    'from',\n",
        "#    'the',\n",
        "#    'Akio',"
      ],
      "execution_count": null,
      "outputs": []
    },
    {
      "cell_type": "code",
      "metadata": {
        "id": "2epvpVdN4272"
      },
      "source": [
        "word2vec_model = Word2Vec(min_count=2, workers=-1, size=300)\n",
        "word2vec_model.build_vocab(corpus)"
      ],
      "execution_count": null,
      "outputs": []
    },
    {
      "cell_type": "code",
      "metadata": {
        "id": "uy6hxvMO6AoB"
      },
      "source": [
        "word2vec_model.intersect_word2vec_format('GoogleNews-vectors-negative300.bin.gz', lockf=1.0, binary=True)"
      ],
      "execution_count": null,
      "outputs": []
    },
    {
      "cell_type": "code",
      "metadata": {
        "colab": {
          "base_uri": "https://localhost:8080/"
        },
        "id": "GlECd-g56jcA",
        "outputId": "9eab5f4a-2c17-4394-8423-7beb6d1c27f2"
      },
      "source": [
        "word2vec_model.train(corpus, total_examples=word2vec_model.corpus_count, epochs=15)"
      ],
      "execution_count": null,
      "outputs": [
        {
          "output_type": "execute_result",
          "data": {
            "text/plain": [
              "(0, 0)"
            ]
          },
          "metadata": {},
          "execution_count": 58
        }
      ]
    },
    {
      "cell_type": "code",
      "metadata": {
        "id": "uko_wXnr7iCA"
      },
      "source": [
        "# 차원에 의한 벡터라이즈 값이 들어있다.\n",
        "word2vec_model.wv.vocab\n",
        "\n",
        "## 출력 결과\n",
        "# {'We': <gensim.models.keyedvectors.Vocab at 0x7f31c2326d10>,\n",
        "#  'know': <gensim.models.keyedvectors.Vocab at 0x7f31c2333090>,\n",
        "#  'that': <gensim.models.keyedvectors.Vocab at 0x7f31c2333f90>,\n",
        "#  'power': <gensim.models.keyedvectors.Vocab at 0x7f31c2329d10>,\n",
        "#  'is': <gensim.models.keyedvectors.Vocab at 0x7f31c2329f50>,\n",
        "#  'shifting': <gensim.models.keyedvectors.Vocab at 0x7f31c2329c50>,\n",
        "#  'From': <gensim.models.keyedvectors.Vocab at 0x7f31c2329150>,\n",
        "#  'West': <gensim.models.keyedvectors.Vocab at 0x7f31c3e2cdd0>,\n",
        "#  'to': <gensim.models.keyedvectors.Vocab at 0x7f31c2329e50>,\n",
        "#  'East': <gensim.models.keyedvectors.Vocab at 0x7f31c2329510>,"
      ],
      "execution_count": null,
      "outputs": []
    },
    {
      "cell_type": "markdown",
      "metadata": {
        "id": "j0kbHLXu8CWy"
      },
      "source": [
        "# 벡터시키는 작업"
      ]
    },
    {
      "cell_type": "markdown",
      "metadata": {
        "id": "FNxk64w-ENA7"
      },
      "source": [
        "## for 문 설명\n",
        "- 라인 출력\n",
        "- 단어를 출력\n",
        "- vocabulary와 매칭하기 :       \n",
        "      # 단어마다 word2vec에 저장된 숫자가 나온다. 그냥 이런 숫자가 들어가있다. \n",
        "      # 현재 300 차원. 글자 표현도 300차원의 숫자로.\n",
        "      # high는 [300개숫자] 로 된 것. 벡터로 점찍는 것. 그 문장이 어떤 벡터를 갖고 있는가가 1개의 벡터로 다시 표현되어야 하기 때문에\n",
        "      # 덧셈으로 작업한다. 벡터플러스(사이즈가 똑같을 때=300차원 동일할 때)\n",
        "      # print(word2vec_model[word]) 차원값 확인\n",
        "- "
      ]
    },
    {
      "cell_type": "code",
      "metadata": {
        "colab": {
          "base_uri": "https://localhost:8080/"
        },
        "id": "zRf8cwVH70rZ",
        "outputId": "f2242d16-dbcf-4a3e-8aaf-7762395a2fe2"
      },
      "source": [
        "doc_embedding_list = list()\n",
        "# for line in df_data['cleaned'][2:3]:\n",
        "for line in df_data['cleaned']:\n",
        "  # print(line)\n",
        "  doc2vec = None\n",
        "  for word in line.split():\n",
        "    # print(word)\n",
        "    if word in word2vec_model.wv.vocab:\n",
        "      # print(word2vec_model[word])\n",
        "      if doc2vec is None:\n",
        "        doc2vec = word2vec_model[word] \n",
        "      else :\n",
        "        doc2vec = doc2vec + word2vec_model[word] \n",
        "\n",
        "  if doc2vec is not None:\n",
        "    doc2vec = doc2vec / len(doc2vec)\n",
        "    doc_embedding_list.append(doc2vec)\n",
        "  # print(type(doc2vec), doc2vec.shape, doc2vec)\n",
        "\n",
        "print(doc_embedding_list)"
      ],
      "execution_count": null,
      "outputs": [
        {
          "output_type": "stream",
          "text": [
            "/usr/local/lib/python3.7/dist-packages/ipykernel_launcher.py:11: DeprecationWarning: Call to deprecated `__getitem__` (Method will be removed in 4.0.0, use self.wv.__getitem__() instead).\n",
            "  # This is added back by InteractiveShellApp.init_path()\n",
            "/usr/local/lib/python3.7/dist-packages/ipykernel_launcher.py:13: DeprecationWarning: Call to deprecated `__getitem__` (Method will be removed in 4.0.0, use self.wv.__getitem__() instead).\n",
            "  del sys.path[0]\n",
            "IOPub data rate exceeded.\n",
            "The notebook server will temporarily stop sending output\n",
            "to the client in order to avoid crashing it.\n",
            "To change this limit, set the config variable\n",
            "`--NotebookApp.iopub_data_rate_limit`.\n",
            "\n",
            "Current values:\n",
            "NotebookApp.iopub_data_rate_limit=1000000.0 (bytes/sec)\n",
            "NotebookApp.rate_limit_window=3.0 (secs)\n",
            "\n"
          ],
          "name": "stderr"
        }
      ]
    },
    {
      "cell_type": "code",
      "metadata": {
        "id": "0v6HjHXD_8Ks"
      },
      "source": [
        "type(doc_embedding_list), doc_embedding_list[3]\n",
        "\n",
        "# (list,\n",
        "#  array([ 4.86756396e-03,  6.42052153e-03,  2.03044293e-03,  7.35262316e-03,\n",
        "#         -1.05007330e-03, -4.15433245e-03,  4.42025298e-03, -1.21672340e-02,\n",
        "#          1.21027296e-02, -1.17696523e-04, -5.33394050e-03, -7.44244410e-03,\n",
        "#          1.48862833e-03,  8.40701349e-03, -1.47739518e-02,  8.36980157e-03,\n",
        "#          3.05416342e-03,  9.42082144e-03,  4.09478758e-04, -6.33179327e-04,\n",
        "#         -1.26164081e-03,  2.53311195e-03, -2.32126680e-03, -1.08690979e-03,\n",
        "#          4.72839409e-03, -7.97854271e-04, -1.40225254e-02,  8.91483948e-03,\n",
        "#         -2.49086926e-03,  5.60364919e-04,  8.62206612e-03, -1.96329597e-03,\n",
        "#         -5.47893066e-03, -3.32143303e-04,  8.50881450e-03,  7.87533540e-03,\n",
        "#          2.39597447e-03, -6.10140734e-04,  1.08110448e-02,  4.60837735e-03,\n",
        "#          8.51122197e-03,  7.39586353e-03,  4.84248856e-03,  2.98650586e-03,\n",
        "#         -2.33655423e-03, -1.40437041e-03, -2.40191212e-03,  4.70298762e-03,\n",
        "#          5.40223252e-03, -2.30985484e-03,  4.38869512e-03,  5.87910321e-03,\n",
        "#         -3.81805818e-03, -4.21494432e-03, -1.69185922e-03,  8.39528628e-03,\n",
        "#         -4.53503756e-03, -7.83264730e-03,  3.19121126e-03, -1.50027629e-02,\n",
        "#          4.75921319e-04,  5.00955619e-03, -1.25764310e-03, -5.44507243e-03,\n",
        "#         -1.57925510e-03, -2.19089235e-03,  1.62292621e-03,  8.46134499e-03,\n",
        "#          3.43065732e-03,  3.93456127e-03,  3.52358492e-03, -1.23998243e-03,\n",
        "#          1.36766024e-02,  2.08690413e-03, -5.54620381e-03, -2.27881223e-03,"
      ],
      "execution_count": null,
      "outputs": []
    },
    {
      "cell_type": "markdown",
      "metadata": {
        "id": "QnWBKzE1FCpz"
      },
      "source": [
        "# 인접행렬 만드는 작업\n",
        "## cosin metrix"
      ]
    },
    {
      "cell_type": "code",
      "metadata": {
        "id": "vyey3SXGE_JK"
      },
      "source": [
        "from sklearn.metrics.pairwise import cosine_similarity"
      ],
      "execution_count": null,
      "outputs": []
    },
    {
      "cell_type": "code",
      "metadata": {
        "colab": {
          "base_uri": "https://localhost:8080/"
        },
        "id": "IxSoq0IhIAm0",
        "outputId": "020cb20c-6302-4e18-e659-ee0710562db2"
      },
      "source": [
        "cosine_sim = cosine_similarity(doc_embedding_list, doc_embedding_list)\n",
        "type(cosine_sim), cosine_sim.shape"
      ],
      "execution_count": null,
      "outputs": [
        {
          "output_type": "execute_result",
          "data": {
            "text/plain": [
              "(numpy.ndarray, (2381, 2381))"
            ]
          },
          "metadata": {},
          "execution_count": 69
        }
      ]
    },
    {
      "cell_type": "code",
      "metadata": {
        "colab": {
          "base_uri": "https://localhost:8080/"
        },
        "id": "ABag0inFIQ_8",
        "outputId": "a72168cb-0810-4ca9-e2d3-74906927c9b4"
      },
      "source": [
        "cosine_sim[3]"
      ],
      "execution_count": null,
      "outputs": [
        {
          "output_type": "execute_result",
          "data": {
            "text/plain": [
              "array([0.76517904, 0.7289075 , 0.7382629 , ..., 0.7205972 , 0.6711928 ,\n",
              "       0.75324404], dtype=float32)"
            ]
          },
          "metadata": {},
          "execution_count": 70
        }
      ]
    },
    {
      "cell_type": "markdown",
      "metadata": {
        "id": "xkF7u0DMIkBA"
      },
      "source": [
        "# predict"
      ]
    },
    {
      "cell_type": "code",
      "metadata": {
        "id": "QXoTdJY5IUjL"
      },
      "source": [
        "title = 'The Da Vinci Code'\n",
        "title = 'The Four Pillars of Investing' # 3"
      ],
      "execution_count": null,
      "outputs": []
    },
    {
      "cell_type": "code",
      "metadata": {
        "colab": {
          "base_uri": "https://localhost:8080/"
        },
        "id": "lWjZ-4ODJQDV",
        "outputId": "fd40863f-06f4-4751-ec87-693bbc8f6d24"
      },
      "source": [
        "idx = 3\n",
        "# numpy 형태의 cosine_sim\n",
        "sim_scores = list(enumerate(cosine_sim[3]))\n",
        "print(sim_scores)\n",
        "# rawdata에서 index=3의 행과 유사도를 비교한 것이므로 (3,~)은 1에 가까운 수치"
      ],
      "execution_count": null,
      "outputs": [
        {
          "output_type": "stream",
          "text": [
            "[(0, 0.76517904), (1, 0.7289075), (2, 0.7382629), (3, 0.99999964), (4, 0.7084964), (5, 0.7805427), (6, 0.8593215), (7, 0.7965765), (8, 0.73943883), (9, 0.7254228), (10, 0.7626609), (11, 0.7512931), (12, 0.72597575), (13, 0.7643095), (14, 0.6824963), (15, 0.75938034), (16, 0.7780046), (17, 0.76274765), (18, 0.74791276), (19, 0.72259754), (20, 0.7390192), (21, 0.736445), (22, 0.71036184), (23, 0.7436199), (24, 0.79294527), (25, 0.64615715), (26, 0.7470798), (27, 0.7641254), (28, 0.72671926), (29, 0.758363), (30, 0.7627596), (31, 0.74568564), (32, 0.7026745), (33, 0.73097885), (34, 0.7818177), (35, 0.756035), (36, 0.76585084), (37, 0.7577896), (38, 0.76890063), (39, 0.751515), (40, 0.7727772), (41, 0.75017476), (42, 0.7340061), (43, 0.78257483), (44, 0.7181958), (45, 0.7281888), (46, 0.74544686), (47, 0.7877703), (48, 0.76137036), (49, 0.66511476), (50, 0.70324343), (51, 0.6985787), (52, 0.7528975), (53, 0.72967654), (54, 0.77925795), (55, 0.7351316), (56, 0.7724032), (57, 0.70177525), (58, 0.740968), (59, 0.80425507), (60, 0.7295217), (61, 0.73372775), (62, 0.80060786), (63, 0.71232885), (64, 0.8024396), (65, 0.69401896), (66, 0.7030269), (67, 0.77999675), (68, 0.71718884), (69, 0.8081645), (70, 0.7480934), (71, 0.713675), (72, 0.70838577), (73, 0.7241116), (74, 0.72705376), (75, 0.7463749), (76, 0.75210965), (77, 0.721065), (78, 0.72412837), (79, 0.5690476), (80, 0.7531202), (81, 0.70452577), (82, 0.74082905), (83, 0.7382507), (84, 0.7957864), (85, 0.8062981), (86, 0.7564931), (87, 0.8121778), (88, 0.74879575), (89, 0.7523395), (90, 0.7496122), (91, 0.7713664), (92, 0.6830183), (93, 0.7430262), (94, 0.768082), (95, 0.7502504), (96, 0.77974206), (97, 0.7351178), (98, 0.73714715), (99, 0.743801), (100, 0.77863693), (101, 0.76479113), (102, 0.677433), (103, 0.7583645), (104, 0.7575402), (105, 0.8020906), (106, 0.68672734), (107, 0.77276164), (108, 0.72940946), (109, 0.7339149), (110, 0.7076373), (111, 0.73225474), (112, 0.7806122), (113, 0.7096292), (114, 0.70314443), (115, 0.7494183), (116, 0.7680353), (117, 0.83234185), (118, 0.7758207), (119, 0.78382456), (120, 0.7814547), (121, 0.8106137), (122, 0.74394506), (123, 0.73669446), (124, 0.70466053), (125, 0.7476043), (126, 0.7834933), (127, 0.71245193), (128, 0.7462166), (129, 0.7493015), (130, 0.7625947), (131, 0.7760555), (132, 0.76062816), (133, 0.79313457), (134, 0.73718417), (135, 0.81997967), (136, 0.79706866), (137, 0.8084897), (138, 0.75885457), (139, 0.75864315), (140, 0.7415337), (141, 0.74498475), (142, 0.7492681), (143, 0.7413435), (144, 0.7858354), (145, 0.7575937), (146, 0.63915414), (147, 0.7832547), (148, 0.7549032), (149, 0.7992368), (150, 0.7565522), (151, 0.7614288), (152, 0.73551714), (153, 0.7242388), (154, 0.72217107), (155, 0.78896713), (156, 0.7456888), (157, 0.7256741), (158, 0.77742004), (159, 0.7494746), (160, 0.84255934), (161, 0.7495685), (162, 0.7377904), (163, 0.72604656), (164, 0.76144606), (165, 0.76870805), (166, 0.78071624), (167, 0.76792127), (168, 0.7822676), (169, 0.76554567), (170, 0.7510241), (171, 0.7635215), (172, 0.79478604), (173, 0.79974866), (174, 0.7215226), (175, 0.784039), (176, 0.7575352), (177, 0.773078), (178, 0.7207053), (179, 0.77465284), (180, 0.7399857), (181, 0.78226984), (182, 0.7723859), (183, 0.7522324), (184, 0.79943925), (185, 0.68396497), (186, 0.81030107), (187, 0.7655968), (188, 0.7402827), (189, 0.83215904), (190, 0.763099), (191, 0.7325037), (192, 0.7292817), (193, 0.7462043), (194, 0.7729815), (195, 0.7714096), (196, 0.7550746), (197, 0.72742313), (198, 0.71814793), (199, 0.7678877), (200, 0.7133531), (201, 0.7383291), (202, 0.772788), (203, 0.714688), (204, 0.708077), (205, 0.719365), (206, 0.41145632), (207, 0.7034719), (208, 0.83325386), (209, 0.7599117), (210, 0.75362587), (211, 0.7489662), (212, 0.7936711), (213, 0.7727305), (214, 0.7593608), (215, 0.43884423), (216, 0.78797686), (217, 0.7302949), (218, 0.7121809), (219, 0.7583374), (220, 0.73627955), (221, 0.77864045), (222, 0.78475195), (223, 0.72244596), (224, 0.78487533), (225, 0.85243374), (226, 0.6957924), (227, 0.7846942), (228, 0.78063375), (229, 0.6234999), (230, 0.79092383), (231, 0.7772554), (232, 0.7135506), (233, 0.7299589), (234, 0.80137724), (235, 0.6842535), (236, 0.72228837), (237, 0.7647519), (238, 0.7576275), (239, 0.748869), (240, 0.82198685), (241, 0.7320965), (242, 0.7462521), (243, 0.7637096), (244, 0.7947773), (245, 0.8057611), (246, 0.7480202), (247, 0.7537945), (248, 0.7977698), (249, 0.8043282), (250, 0.7801952), (251, 0.7618018), (252, 0.7745772), (253, 0.7666772), (254, 0.7021683), (255, 0.78340346), (256, 0.7626066), (257, 0.6492253), (258, 0.712476), (259, 0.64723843), (260, 0.71029246), (261, 0.69201696), (262, 0.7926429), (263, 0.17404163), (264, 0.75424737), (265, 0.69676197), (266, 0.7868212), (267, 0.71944934), (268, 0.7745502), (269, 0.7182903), (270, 0.79342574), (271, 0.7158016), (272, 0.7338021), (273, 0.7051596), (274, 0.77516335), (275, 0.7583198), (276, 0.8134902), (277, 0.7776316), (278, 0.71449465), (279, 0.7177421), (280, 0.71799606), (281, 0.7596281), (282, 0.7605326), (283, 0.7778178), (284, 0.7058402), (285, 0.7555346), (286, 0.75602907), (287, 0.77749294), (288, 0.7472664), (289, 0.7632213), (290, 0.6522595), (291, 0.76759017), (292, 0.7397166), (293, 0.71442777), (294, 0.8227286), (295, 0.7652125), (296, 0.75745344), (297, 0.82835025), (298, 0.7377845), (299, 0.78121156), (300, 0.71897584), (301, 0.6767113), (302, 0.71298695), (303, 0.75194216), (304, 0.7779276), (305, 0.8120775), (306, 0.7821421), (307, 0.77639973), (308, 0.75238276), (309, 0.7577168), (310, 0.8027636), (311, 0.76511884), (312, 0.8062286), (313, 0.7568108), (314, 0.7900747), (315, 0.7761472), (316, 0.7388483), (317, 0.77347636), (318, 0.74257493), (319, 0.72300065), (320, 0.66767186), (321, 0.7449052), (322, 0.7861054), (323, 0.7423719), (324, 0.7380248), (325, 0.83084846), (326, 0.7253754), (327, 0.7847538), (328, 0.77570033), (329, 0.75668424), (330, 0.7747066), (331, 0.84571534), (332, 0.7468742), (333, 0.74799746), (334, 0.7555815), (335, 0.79135364), (336, 0.73956734), (337, 0.77904385), (338, 0.78868246), (339, 0.7563026), (340, 0.76947576), (341, 0.7278388), (342, 0.72528714), (343, 0.74640596), (344, 0.7621613), (345, 0.72734773), (346, 0.6775521), (347, 0.7673117), (348, 0.7232004), (349, 0.7997635), (350, 0.7529642), (351, 0.77891743), (352, 0.702203), (353, 0.763486), (354, 0.77654076), (355, 0.8161533), (356, 0.745431), (357, 0.7587792), (358, 0.8390085), (359, 0.779528), (360, 0.76378834), (361, 0.7466172), (362, 0.8283808), (363, 0.75812066), (364, 0.70959556), (365, 0.74851704), (366, 0.7623978), (367, 0.8100548), (368, 0.6725903), (369, 0.7286977), (370, 0.76580787), (371, 0.75693494), (372, 0.72452915), (373, 0.7625813), (374, 0.75310004), (375, 0.8165311), (376, 0.7461015), (377, 0.7045997), (378, 0.764653), (379, 0.72204506), (380, 0.7880076), (381, 0.73808706), (382, 0.74739784), (383, 0.73287386), (384, 0.6867455), (385, 0.799547), (386, 0.73950285), (387, 0.72615623), (388, 0.7648096), (389, 0.7772397), (390, 0.7257674), (391, 0.78626376), (392, 0.75290096), (393, 0.78338253), (394, 0.7375671), (395, 0.7395136), (396, 0.75779545), (397, 0.7052514), (398, 0.7633204), (399, 0.7238982), (400, 0.736943), (401, 0.73457706), (402, 0.7541744), (403, 0.7697168), (404, 0.73235446), (405, 0.7733949), (406, 0.7824354), (407, 0.7617754), (408, 0.78103566), (409, 0.77188224), (410, 0.7836371), (411, 0.73330224), (412, 0.7361434), (413, 0.7779712), (414, 0.80537516), (415, 0.8005434), (416, 0.7561165), (417, 0.76562095), (418, 0.7405308), (419, 0.6943867), (420, 0.77925104), (421, 0.7323567), (422, 0.7491716), (423, 0.76944155), (424, 0.7934187), (425, 0.7573616), (426, 0.7307025), (427, 0.7351388), (428, 0.5485827), (429, 0.7429497), (430, 0.78826314), (431, 0.73948497), (432, 0.72099036), (433, 0.7689754), (434, 0.7606679), (435, 0.74629253), (436, 0.77153754), (437, 0.7231044), (438, 0.78588253), (439, 0.7343175), (440, 0.7752169), (441, 0.76465267), (442, 0.7327293), (443, 0.7635172), (444, 0.7831111), (445, 0.7789646), (446, 0.77855545), (447, 0.7443119), (448, 0.73415446), (449, 0.7143905), (450, 0.7719004), (451, 0.7502267), (452, 0.768909), (453, 0.78577185), (454, 0.70409423), (455, 0.76983875), (456, 0.770539), (457, 0.7903499), (458, 0.7238542), (459, 0.7050544), (460, 0.8011914), (461, 0.7856539), (462, 0.7797563), (463, 0.756315), (464, 0.68882143), (465, 0.7345129), (466, 0.7274685), (467, 0.824243), (468, 0.74926496), (469, 0.71758735), (470, 0.7921644), (471, 0.6616293), (472, 0.674161), (473, 0.73699856), (474, 0.7579461), (475, 0.71099675), (476, 0.7386982), (477, 0.67656624), (478, 0.12486137), (479, 0.7468742), (480, 0.6936939), (481, 0.7495268), (482, 0.7915333), (483, 0.6320938), (484, 0.7668767), (485, 0.8124345), (486, 0.7289199), (487, 0.69125646), (488, 0.71440583), (489, 0.8351054), (490, 0.7532811), (491, 0.75821245), (492, 0.7495592), (493, 0.73324543), (494, 0.75302774), (495, 0.7404242), (496, 0.7415729), (497, 0.7246347), (498, 0.68499714), (499, 0.8085586), (500, 0.76932424), (501, 0.77851236), (502, 0.74362487), (503, 0.7746964), (504, 0.766885), (505, 0.70770985), (506, 0.76714706), (507, 0.72701645), (508, 0.77823657), (509, 0.74411905), (510, 0.7503615), (511, 0.7300449), (512, 0.77490014), (513, 0.71995395), (514, 0.7929898), (515, 0.7530001), (516, 0.7334582), (517, 0.75074446), (518, 0.7490791), (519, 0.77778), (520, 0.7422459), (521, 0.79234064), (522, 0.6628416), (523, 0.79504716), (524, 0.7635081), (525, 0.68129826), (526, 0.8025815), (527, 0.7761317), (528, 0.74198234), (529, 0.78935224), (530, 0.7447718), (531, 0.7706724), (532, 0.7107225), (533, 0.7046508), (534, 0.7301337), (535, 0.7686721), (536, 0.76275104), (537, 0.84788424), (538, 0.77869767), (539, 0.7149833), (540, 0.727543), (541, 0.76927555), (542, 0.75838745), (543, 0.75900865), (544, 0.7364455), (545, 0.75478244), (546, 0.7697775), (547, 0.7441833), (548, 0.6779213), (549, 0.72602016), (550, 0.76345056), (551, 0.75508386), (552, 0.7911701), (553, 0.7722462), (554, 0.78918743), (555, 0.77485085), (556, 0.8022352), (557, 0.73467696), (558, 0.7653016), (559, 0.76655436), (560, 0.7200648), (561, 0.76381767), (562, 0.78209597), (563, 0.73308015), (564, 0.81762964), (565, 0.81107205), (566, 0.78392035), (567, 0.7714056), (568, 0.78408223), (569, 0.71058804), (570, 0.7307713), (571, 0.78874654), (572, 0.7812435), (573, 0.7892555), (574, 0.7996508), (575, 0.75854486), (576, 0.7408112), (577, 0.80655974), (578, 0.7707985), (579, 0.6757409), (580, 0.7947773), (581, 0.77714586), (582, 0.76023453), (583, 0.72235566), (584, 0.79229856), (585, 0.8060412), (586, 0.7510312), (587, 0.7416833), (588, 0.76240796), (589, 0.75286716), (590, 0.6472624), (591, 0.75250363), (592, 0.7589681), (593, 0.77936226), (594, 0.7739283), (595, 0.77041227), (596, 0.7450669), (597, 0.74519587), (598, 0.7624493), (599, 0.78097343), (600, 0.7655371), (601, 0.7176658), (602, 0.7555346), (603, 0.7450416), (604, 0.76799744), (605, 0.7812842), (606, 0.84673786), (607, 0.7349185), (608, 0.8037213), (609, 0.750392), (610, 0.7977157), (611, 0.6647109), (612, 0.7967061), (613, 0.78154874), (614, 0.80253), (615, 0.75528705), (616, 0.78852403), (617, 0.70510215), (618, 0.73512095), (619, 0.70724607), (620, 0.78253806), (621, 0.7560782), (622, 0.76546305), (623, 0.67641383), (624, 0.765766), (625, 0.782035), (626, 0.8031441), (627, 0.8067695), (628, 0.76158065), (629, 0.7940638), (630, 0.82213175), (631, 0.7713961), (632, 0.7719403), (633, 0.77776337), (634, 0.78049743), (635, 0.7683053), (636, 0.7560797), (637, 0.7706239), (638, 0.7790407), (639, 0.7564309), (640, 0.78925025), (641, 0.77070224), (642, 0.7047936), (643, 0.7479603), (644, 0.7530277), (645, 0.7153988), (646, 0.791957), (647, 0.73217106), (648, 0.7800225), (649, 0.7909955), (650, 0.79124504), (651, 0.74733907), (652, 0.74348086), (653, 0.79810804), (654, 0.7172078), (655, 0.7520805), (656, 0.7630426), (657, 0.76923263), (658, 0.798352), (659, 0.8125286), (660, 0.78195137), (661, 0.77293783), (662, 0.791794), (663, 0.7459189), (664, 0.7761262), (665, 0.5898429), (666, 0.75171155), (667, 0.6996018), (668, 0.75380373), (669, 0.628551), (670, 0.7467363), (671, 0.7641776), (672, 0.1462811), (673, 0.7371318), (674, 0.7338774), (675, 0.7349798), (676, 0.748518), (677, 0.69198155), (678, 0.7627323), (679, 0.7984547), (680, 0.7877397), (681, 0.75045466), (682, 0.73748547), (683, 0.7723649), (684, 0.75737613), (685, 0.7288311), (686, 0.7327383), (687, 0.7978176), (688, 0.7660289), (689, 0.7773382), (690, 0.7689316), (691, 0.7405679), (692, 0.82287407), (693, 0.75608236), (694, 0.7346178), (695, 0.78361934), (696, 0.7355266), (697, 0.69435775), (698, 0.72313565), (699, 0.80054927), (700, 0.7917865), (701, 0.7761851), (702, 0.7250712), (703, 0.6875917), (704, 0.7754855), (705, 0.6967671), (706, 0.76616967), (707, 0.8044706), (708, 0.7553929), (709, 0.7836107), (710, 0.7876336), (711, 0.72447366), (712, 0.76684284), (713, 0.8094025), (714, 0.7117442), (715, 0.7745568), (716, 0.7600286), (717, 0.71517617), (718, 0.753931), (719, 0.7580104), (720, 0.7791955), (721, 0.68616134), (722, 0.7995054), (723, 0.7589692), (724, 0.7908858), (725, 0.7468696), (726, 0.7736906), (727, 0.788992), (728, 0.7419297), (729, 0.7531454), (730, 0.76492995), (731, 0.77103585), (732, 0.7414586), (733, 0.6849657), (734, 0.7722838), (735, 0.7431097), (736, 0.7747568), (737, 0.77451247), (738, 0.7953396), (739, 0.74380857), (740, 0.73887783), (741, 0.7538956), (742, 0.75315875), (743, 0.711532), (744, 0.74078006), (745, 0.74188405), (746, 0.79657185), (747, 0.7672257), (748, 0.75061464), (749, 0.7737495), (750, 0.7686607), (751, 0.75830466), (752, 0.75043523), (753, 0.80563974), (754, 0.7646658), (755, 0.7760123), (756, 0.7327537), (757, 0.7272432), (758, 0.7808004), (759, 0.74206597), (760, 0.76587903), (761, 0.78843886), (762, 0.75423485), (763, 0.74769), (764, 0.7750252), (765, 0.7578029), (766, 0.7985689), (767, 0.8267611), (768, 0.7680195), (769, 0.73578227), (770, 0.75235367), (771, 0.79596376), (772, 0.7611232), (773, 0.71889216), (774, 0.72987074), (775, 0.6982118), (776, 0.78449994), (777, 0.78126603), (778, 0.71636975), (779, 0.7180042), (780, 0.739838), (781, 0.7081041), (782, 0.67359746), (783, 0.77256674), (784, 0.7426741), (785, 0.8285644), (786, 0.66919243), (787, 0.72440344), (788, 0.785645), (789, 0.7766908), (790, 0.7431637), (791, 0.68733454), (792, 0.7504331), (793, 0.68338734), (794, 0.73081756), (795, 0.782101), (796, 0.76170725), (797, 0.739741), (798, 0.8043585), (799, 0.7521346), (800, 0.7842172), (801, 0.781466), (802, 0.7569678), (803, 0.739178), (804, 0.7714888), (805, 0.8030406), (806, 0.7544669), (807, 0.74168795), (808, 0.7547558), (809, 0.76981056), (810, 0.8248333), (811, 0.7812786), (812, 0.7714291), (813, 0.8084009), (814, 0.77489686), (815, 0.77415353), (816, 0.76802194), (817, 0.7969319), (818, 0.7744078), (819, 0.73838085), (820, 0.7833501), (821, 0.71844625), (822, 0.7726574), (823, 0.6581623), (824, 0.7742657), (825, 0.74678516), (826, 0.75317675), (827, 0.790902), (828, 0.67485446), (829, 0.7520268), (830, 0.6562612), (831, 0.734931), (832, 0.74603856), (833, 0.8036034), (834, 0.804011), (835, 0.6960288), (836, 0.72019064), (837, 0.7409118), (838, 0.7793102), (839, 0.75543493), (840, 0.8011466), (841, 0.7432595), (842, 0.73298407), (843, 0.7296023), (844, 0.74353397), (845, 0.7905255), (846, 0.79669964), (847, 0.67369276), (848, 0.76811624), (849, 0.7895759), (850, 0.7611751), (851, 0.8191424), (852, 0.75004023), (853, 0.7694271), (854, 0.71713334), (855, 0.79028255), (856, 0.7642425), (857, 0.8120742), (858, 0.7863372), (859, 0.75433904), (860, 0.7899094), (861, 0.51954603), (862, 0.7384674), (863, 0.7864938), (864, 0.8145732), (865, 0.7275723), (866, 0.77824855), (867, 0.78848326), (868, 0.7371678), (869, 0.7362401), (870, 0.79764473), (871, 0.75596535), (872, 0.7748567), (873, 0.80086577), (874, 0.7881826), (875, 0.81089836), (876, 0.77987826), (877, 0.82399297), (878, 0.72935516), (879, 0.7227532), (880, 0.7178083), (881, 0.7831402), (882, 0.77903587), (883, 0.7918427), (884, 0.7917515), (885, 0.7900523), (886, 0.7354949), (887, 0.8391184), (888, 0.7499718), (889, 0.8247649), (890, 0.81982195), (891, 0.71269166), (892, 0.7755986), (893, 0.73024875), (894, 0.7660679), (895, 0.7241635), (896, 0.8244169), (897, 0.76034343), (898, 0.72961175), (899, 0.7744687), (900, 0.79955256), (901, 0.76049423), (902, 0.7167963), (903, 0.748578), (904, 0.79390216), (905, 0.7587036), (906, 0.73888344), (907, 0.8389222), (908, 0.7254393), (909, 0.72349596), (910, 0.7835487), (911, 0.7755911), (912, 0.74669147), (913, 0.76277834), (914, 0.7430869), (915, 0.77979904), (916, 0.7611385), (917, 0.7429434), (918, 0.75902665), (919, 0.7474265), (920, 0.7852697), (921, 0.7538049), (922, 0.72614586), (923, 0.7689178), (924, 0.7476138), (925, 0.65724903), (926, 0.74374044), (927, 0.7550981), (928, 0.7506958), (929, 0.75003), (930, 0.7958854), (931, 0.76506865), (932, 0.6760599), (933, 0.772686), (934, 0.74460953), (935, 0.78430194), (936, 0.79954416), (937, 0.7332673), (938, 0.77745473), (939, 0.75850105), (940, 0.6535049), (941, 0.7675028), (942, 0.6565829), (943, 0.76089126), (944, 0.7574055), (945, 0.77421725), (946, 0.7327705), (947, 0.74901366), (948, 0.7796132), (949, 0.74708486), (950, 0.7853844), (951, 0.7314822), (952, 0.71126866), (953, 0.5955283), (954, 0.78314614), (955, 0.7485019), (956, 0.7465618), (957, 0.7501196), (958, 0.74339724), (959, 0.73984134), (960, 0.7585889), (961, 0.7312501), (962, 0.7599454), (963, 0.7498515), (964, 0.75118136), (965, 0.78043485), (966, 0.7899875), (967, 0.2876463), (968, 0.72577447), (969, 0.737058), (970, 0.7535071), (971, 0.8263276), (972, 0.75401175), (973, 0.78253216), (974, 0.7884843), (975, 0.7601317), (976, 0.75283366), (977, 0.73745847), (978, 0.7250805), (979, 0.81507456), (980, 0.7397005), (981, 0.8061176), (982, 0.7468742), (983, 0.81548244), (984, 0.65365714), (985, 0.72851944), (986, 0.71265477), (987, 0.7574339), (988, 0.8044331), (989, 0.7667417), (990, 0.7292601), (991, 0.8008988), (992, 0.6738681), (993, 0.6856229), (994, 0.74134827), (995, 0.69734293), (996, 0.72852606), (997, 0.76851684), (998, 0.7702811), (999, 0.7726095), (1000, 0.7560773), (1001, 0.7501703), (1002, 0.725198), (1003, 0.7414169), (1004, 0.7607013), (1005, 0.7504459), (1006, 0.76642716), (1007, 0.772787), (1008, 0.5485827), (1009, 0.79965264), (1010, 0.7706006), (1011, 0.651718), (1012, 0.79068244), (1013, 0.75145507), (1014, 0.790223), (1015, 0.7584973), (1016, 0.75812674), (1017, 0.74845195), (1018, 0.7795979), (1019, 0.751118), (1020, 0.81277215), (1021, 0.7856122), (1022, 0.83577126), (1023, 0.77353513), (1024, 0.7834592), (1025, 0.74254125), (1026, 0.76415145), (1027, 0.732058), (1028, 0.77855366), (1029, 0.7494482), (1030, 0.7404147), (1031, 0.7734902), (1032, 0.7865993), (1033, 0.7276995), (1034, 0.69152653), (1035, 0.7494482), (1036, 0.6799208), (1037, 0.7924086), (1038, 0.7520126), (1039, 0.78784317), (1040, 0.765079), (1041, 0.74149716), (1042, 0.7808952), (1043, 0.751962), (1044, 0.73027736), (1045, 0.8025236), (1046, 0.7424471), (1047, 0.74653864), (1048, 0.72528654), (1049, 0.7890698), (1050, 0.7383163), (1051, 0.7657369), (1052, 0.7887629), (1053, 0.7447082), (1054, 0.7184769), (1055, 0.75400925), (1056, 0.79844403), (1057, 0.79237974), (1058, 0.7935405), (1059, 0.7737903), (1060, 0.7013751), (1061, 0.74188316), (1062, 0.79384553), (1063, 0.7456927), (1064, 0.7307781), (1065, 0.79966366), (1066, 0.76214653), (1067, 0.7340657), (1068, 0.7691584), (1069, 0.7773277), (1070, 0.76302326), (1071, 0.6571424), (1072, 0.72563136), (1073, 0.7747336), (1074, 0.8147474), (1075, 0.74834263), (1076, 0.729029), (1077, 0.74978834), (1078, 0.8050529), (1079, 0.6609968), (1080, 0.67879945), (1081, 0.78097934), (1082, 0.72272694), (1083, 0.84130746), (1084, 0.7966741), (1085, 0.7831284), (1086, 0.73024875), (1087, 0.71399385), (1088, 0.7398008), (1089, 0.78213286), (1090, 0.7626395), (1091, 0.7738332), (1092, 0.7853039), (1093, 0.6236303), (1094, 0.793893), (1095, 0.72995883), (1096, 0.7514888), (1097, 0.7780112), (1098, 0.7697967), (1099, 0.74566567), (1100, 0.71377367), (1101, 0.77974105), (1102, 0.7608068), (1103, 0.73635685), (1104, 0.7595722), (1105, 0.7878937), (1106, 0.7773671), (1107, 0.7227134), (1108, 0.70749915), (1109, 0.7441387), (1110, 0.8006845), (1111, 0.7596695), (1112, 0.74483454), (1113, 0.7311361), (1114, 0.74414843), (1115, 0.7233089), (1116, 0.7493416), (1117, 0.699253), (1118, 0.7573637), (1119, 0.765714), (1120, 0.78026026), (1121, 0.7807248), (1122, 0.70241463), (1123, 0.7624661), (1124, 0.77432376), (1125, 0.77202153), (1126, 0.79005504), (1127, 0.7253895), (1128, 0.76562154), (1129, 0.72410774), (1130, 0.76462847), (1131, 0.7221513), (1132, 0.753851), (1133, 0.80964136), (1134, 0.7169644), (1135, 0.7877701), (1136, 0.78119993), (1137, 0.81233275), (1138, 0.7799), (1139, 0.7737371), (1140, 0.767762), (1141, 0.79219013), (1142, 0.72473073), (1143, 0.73591435), (1144, 0.7438685), (1145, 0.69140244), (1146, 0.61678827), (1147, 0.6498266), (1148, 0.6394669), (1149, 0.764871), (1150, 0.79351205), (1151, 0.8188996), (1152, 0.7409239), (1153, 0.73979986), (1154, 0.15427497), (1155, 0.7398895), (1156, 0.80754834), (1157, 0.75452155), (1158, 0.740717), (1159, 0.803931), (1160, 0.778445), (1161, 0.75340617), (1162, 0.7528436), (1163, 0.7136306), (1164, 0.79419494), (1165, 0.8030067), (1166, 0.73769146), (1167, 0.7470079), (1168, 0.7804543), (1169, 0.7644813), (1170, 0.8158233), (1171, 0.7705719), (1172, 0.83234113), (1173, 0.82170975), (1174, 0.64965445), (1175, 0.76476717), (1176, 0.7753627), (1177, 0.77511865), (1178, 0.80083174), (1179, 0.79075986), (1180, 0.69429713), (1181, 0.7651794), (1182, 0.7289079), (1183, 0.73826265), (1184, 0.80095625), (1185, 0.7219663), (1186, 0.74102277), (1187, 0.72434795), (1188, 0.7205894), (1189, 0.72620904), (1190, 0.7161741), (1191, 0.6809659), (1192, 0.7117368), (1193, 0.72655493), (1194, 0.6933529), (1195, 0.6577804), (1196, 0.6456301), (1197, 0.70017767), (1198, 0.6985307), (1199, 0.72750735), (1200, 0.68807405), (1201, 0.64559364), (1202, 0.75088054), (1203, 0.67730534), (1204, 0.67306525), (1205, 0.6959685), (1206, 0.6949486), (1207, 0.6803867), (1208, 0.7453193), (1209, 0.7542929), (1210, 0.6965968), (1211, 0.749923), (1212, 0.77482396), (1213, 0.7209976), (1214, 0.7144006), (1215, 0.72737795), (1216, 0.66055924), (1217, 0.6604026), (1218, 0.6900054), (1219, 0.71057564), (1220, 0.71141434), (1221, 0.73704135), (1222, 0.7143034), (1223, 0.65138674), (1224, 0.72155696), (1225, 0.6885176), (1226, 0.7162195), (1227, 0.72734994), (1228, 0.73064977), (1229, 0.6535415), (1230, 0.6988451), (1231, 0.75464916), (1232, 0.7480523), (1233, 0.6897216), (1234, 0.67079806), (1235, 0.72397125), (1236, 0.725178), (1237, 0.7141448), (1238, 0.713009), (1239, 0.67390263), (1240, 0.7386501), (1241, 0.65154576), (1242, 0.70841974), (1243, 0.71376896), (1244, 0.68146414), (1245, 0.6803077), (1246, 0.6954065), (1247, 0.7362083), (1248, 0.6483202), (1249, 0.7657309), (1250, 0.6820425), (1251, 0.73067605), (1252, 0.7402415), (1253, 0.7112203), (1254, 0.7348124), (1255, 0.74741113), (1256, 0.6539626), (1257, 0.70934063), (1258, 0.73485297), (1259, 0.70201373), (1260, 0.69411695), (1261, 0.69001245), (1262, 0.70031434), (1263, 0.7609619), (1264, 0.73388356), (1265, 0.72116274), (1266, 0.7253212), (1267, 0.5795079), (1268, 0.74443203), (1269, 0.6965259), (1270, 0.67546976), (1271, 0.6850315), (1272, 0.67620975), (1273, 0.6987831), (1274, 0.7305585), (1275, 0.6676649), (1276, 0.7162939), (1277, 0.7309182), (1278, 0.7243683), (1279, 0.754219), (1280, 0.6882185), (1281, 0.7451286), (1282, 0.7322478), (1283, 0.7020029), (1284, 0.73038274), (1285, 0.7632476), (1286, 0.73580885), (1287, 0.6847894), (1288, 0.7533688), (1289, 0.73797226), (1290, 0.7018203), (1291, 0.7116863), (1292, 0.6817719), (1293, 0.7136152), (1294, 0.7356124), (1295, 0.6897216), (1296, 0.7192773), (1297, 0.6923732), (1298, 0.73000723), (1299, 0.7185781), (1300, 0.70476186), (1301, 0.6881509), (1302, 0.72473013), (1303, 0.6423858), (1304, 0.67802566), (1305, 0.6758881), (1306, 0.751118), (1307, 0.7067098), (1308, 0.6719016), (1309, 0.6935925), (1310, 0.7325736), (1311, 0.6950072), (1312, 0.69172305), (1313, 0.6471231), (1314, 0.7198376), (1315, 0.6762018), (1316, 0.7153887), (1317, 0.72524035), (1318, 0.6315822), (1319, 0.78365904), (1320, 0.7269574), (1321, 0.73205733), (1322, 0.67067146), (1323, 0.7419901), (1324, 0.76894075), (1325, 0.7052523), (1326, 0.679952), (1327, 0.63804865), (1328, 0.7177054), (1329, 0.75217193), (1330, 0.7489715), (1331, 0.7220568), (1332, 0.7594746), (1333, 0.6890813), (1334, 0.73068255), (1335, 0.6926409), (1336, 0.6877964), (1337, 0.6909654), (1338, 0.7492456), (1339, 0.72345805), (1340, 0.69596094), (1341, 0.7431567), (1342, 0.6130371), (1343, 0.7481987), (1344, 0.68399924), (1345, 0.68773603), (1346, 0.6382378), (1347, 0.71590257), (1348, 0.64295924), (1349, 0.6798904), (1350, 0.74012285), (1351, 0.7079682), (1352, 0.7379992), (1353, 0.67252773), (1354, 0.7534404), (1355, 0.73750174), (1356, 0.6992197), (1357, 0.68051875), (1358, 0.7296805), (1359, 0.7227746), (1360, 0.71197116), (1361, 0.7414137), (1362, 0.7231867), (1363, 0.7635081), (1364, 0.6866881), (1365, 0.72444755), (1366, 0.7100934), (1367, 0.731619), (1368, 0.70020384), (1369, 0.7507026), (1370, 0.7297629), (1371, 0.7337461), (1372, 0.71355695), (1373, 0.73818463), (1374, 0.72058606), (1375, 0.75944966), (1376, 0.6889056), (1377, 0.7242828), (1378, 0.6531159), (1379, 0.6654109), (1380, 0.71775645), (1381, 0.70940125), (1382, 0.658507), (1383, 0.70222425), (1384, 0.70636654), (1385, 0.74712694), (1386, 0.65193725), (1387, 0.7514055), (1388, 0.7308923), (1389, 0.6830459), (1390, 0.7000219), (1391, 0.69726413), (1392, 0.7243505), (1393, 0.67166585), (1394, 0.7425148), (1395, 0.68972427), (1396, 0.7415766), (1397, 0.75711346), (1398, 0.7260529), (1399, 0.72354424), (1400, 0.7379192), (1401, 0.73186857), (1402, 0.6549831), (1403, 0.7617428), (1404, 0.7457161), (1405, 0.6154795), (1406, 0.7248818), (1407, 0.6760989), (1408, 0.6811987), (1409, 0.7230664), (1410, 0.7573926), (1411, 0.7317379), (1412, 0.73920447), (1413, 0.77376145), (1414, 0.71694714), (1415, 0.7465062), (1416, 0.7154661), (1417, 0.7440609), (1418, 0.75865436), (1419, 0.76548505), (1420, 0.7384053), (1421, 0.7062281), (1422, 0.7367613), (1423, 0.6613992), (1424, 0.7716836), (1425, 0.66605484), (1426, 0.6595022), (1427, 0.69193894), (1428, 0.7320468), (1429, 0.7407686), (1430, 0.74953866), (1431, 0.7265513), (1432, 0.6614927), (1433, 0.71279556), (1434, 0.74302655), (1435, 0.7096427), (1436, 0.70570844), (1437, 0.7408952), (1438, 0.6518339), (1439, 0.7440343), (1440, 0.7377022), (1441, 0.71610606), (1442, 0.7455497), (1443, 0.72889346), (1444, 0.7342216), (1445, 0.72236365), (1446, 0.74632627), (1447, 0.68696433), (1448, 0.6996736), (1449, 0.7409695), (1450, 0.72567296), (1451, 0.73304623), (1452, 0.71083), (1453, 0.7075512), (1454, 0.77793396), (1455, 0.64254826), (1456, 0.6841169), (1457, 0.77990085), (1458, 0.7782972), (1459, 0.7510082), (1460, 0.72056067), (1461, 0.71962523), (1462, 0.7396841), (1463, 0.73872244), (1464, 0.6683985), (1465, 0.7468829), (1466, 0.66687477), (1467, 0.78768253), (1468, 0.7003516), (1469, 0.74834055), (1470, 0.7217875), (1471, 0.7195034), (1472, 0.6890483), (1473, 0.75702906), (1474, 0.67233276), (1475, 0.67378914), (1476, 0.7786294), (1477, 0.7788255), (1478, 0.7352787), (1479, 0.70708406), (1480, 0.7093665), (1481, 0.75440043), (1482, 0.72877586), (1483, 0.7132286), (1484, 0.6578352), (1485, 0.7266532), (1486, 0.7449971), (1487, 0.6930834), (1488, 0.72455627), (1489, 0.64807236), (1490, 0.7135824), (1491, 0.7340791), (1492, 0.67458296), (1493, 0.72056067), (1494, 0.70403165), (1495, 0.66672283), (1496, 0.7333908), (1497, 0.7135142), (1498, 0.11787111), (1499, 0.7521234), (1500, 0.7205997), (1501, 0.66119736), (1502, 0.75867605), (1503, 0.7160461), (1504, 0.66596353), (1505, 0.73303354), (1506, 0.68419933), (1507, 0.74598), (1508, 0.69204235), (1509, 0.7091601), (1510, 0.74636304), (1511, 0.72203135), (1512, 0.70346105), (1513, 0.76506424), (1514, 0.70346594), (1515, 0.7269048), (1516, 0.70433414), (1517, 0.7023791), (1518, 0.7282225), (1519, 0.64056104), (1520, 0.652503), (1521, 0.6708917), (1522, 0.68958896), (1523, 0.6419856), (1524, 0.71154964), (1525, 0.7492544), (1526, 0.6758497), (1527, 0.7428413), (1528, 0.69112426), (1529, 0.5262055), (1530, 0.69460154), (1531, 0.6106954), (1532, 0.6905336), (1533, 0.7274356), (1534, 0.6875058), (1535, 0.7600178), (1536, 0.71154445), (1537, 0.7031638), (1538, 0.73451775), (1539, 0.7366023), (1540, 0.7318588), (1541, 0.71425956), (1542, 0.6478483), (1543, 0.61842924), (1544, 0.7112469), (1545, 0.7279671), (1546, 0.6801956), (1547, 0.7260961), (1548, 0.67383254), (1549, 0.67834616), (1550, 0.6926448), (1551, 0.7444474), (1552, 0.6784577), (1553, 0.67081445), (1554, 0.7478254), (1555, 0.6992308), (1556, 0.6981181), (1557, 0.68452144), (1558, 0.7423876), (1559, 0.6879318), (1560, 0.74661714), (1561, 0.7340065), (1562, 0.6953722), (1563, 0.7388361), (1564, 0.7386655), (1565, 0.68839467), (1566, 0.72230184), (1567, 0.7706295), (1568, 0.74796325), (1569, 0.6875724), (1570, 0.6669548), (1571, 0.7303257), (1572, 0.72056067), (1573, 0.70392513), (1574, 0.7153172), (1575, 0.7359675), (1576, 0.7058086), (1577, 0.7397297), (1578, 0.71145034), (1579, 0.7248996), (1580, 0.68922937), (1581, 0.72310287), (1582, 0.76535803), (1583, 0.72638845), (1584, 0.7394995), (1585, 0.6709668), (1586, 0.7258386), (1587, 0.72035176), (1588, 0.7346104), (1589, 0.69556624), (1590, 0.7268367), (1591, 0.7086063), (1592, 0.73265797), (1593, 0.71395266), (1594, 0.71890104), (1595, 0.70418596), (1596, 0.7191694), (1597, 0.7249824), (1598, 0.73838955), (1599, 0.7168557), (1600, 0.6760446), (1601, 0.7238833), (1602, 0.70252913), (1603, 0.7044618), (1604, 0.65788996), (1605, 0.6870597), (1606, 0.75828266), (1607, 0.7217216), (1608, 0.64653045), (1609, 0.7295576), (1610, 0.7236856), (1611, 0.69445604), (1612, 0.722841), (1613, 0.6979449), (1614, 0.7495343), (1615, 0.7483194), (1616, 0.71476126), (1617, 0.6925383), (1618, 0.66435474), (1619, 0.67051995), (1620, 0.6713681), (1621, 0.7137534), (1622, 0.7337473), (1623, 0.72926503), (1624, 0.7613039), (1625, 0.71841484), (1626, 0.66574925), (1627, 0.6790524), (1628, 0.67523646), (1629, 0.78043216), (1630, 0.71736205), (1631, 0.6939021), (1632, 0.66460425), (1633, 0.6946749), (1634, 0.7613791), (1635, 0.72263724), (1636, 0.7367011), (1637, 0.71145123), (1638, 0.70199883), (1639, 0.701548), (1640, 0.7108177), (1641, 0.60533005), (1642, 0.7531927), (1643, 0.65986407), (1644, 0.7716029), (1645, 0.7199106), (1646, 0.7258313), (1647, 0.7014162), (1648, 0.7614334), (1649, 0.7629854), (1650, 0.7008763), (1651, 0.63245463), (1652, 0.68533784), (1653, 0.7220282), (1654, 0.7210172), (1655, 0.7020118), (1656, 0.6797638), (1657, 0.7659405), (1658, 0.6974769), (1659, 0.70484525), (1660, 0.6534499), (1661, 0.7534132), (1662, 0.74392134), (1663, 0.7544631), (1664, 0.69513774), (1665, 0.71527606), (1666, 0.6828357), (1667, 0.73305553), (1668, 0.7298573), (1669, 0.625949), (1670, 0.7121836), (1671, 0.6982314), (1672, 0.6999697), (1673, 0.7401138), (1674, 0.7356458), (1675, 0.6840354), (1676, 0.7226887), (1677, 0.7486342), (1678, 0.69803745), (1679, 0.7366556), (1680, 0.7029098), (1681, 0.6567286), (1682, 0.70357126), (1683, 0.660728), (1684, 0.7377348), (1685, 0.73756295), (1686, 0.7317607), (1687, 0.7329649), (1688, 0.6737441), (1689, 0.72053903), (1690, 0.779069), (1691, 0.67055535), (1692, 0.75714505), (1693, 0.6506072), (1694, 0.72688466), (1695, 0.76089334), (1696, 0.59797615), (1697, 0.5733969), (1698, 0.7453299), (1699, 0.7007347), (1700, 0.7122343), (1701, 0.64097786), (1702, 0.6807711), (1703, 0.7105614), (1704, 0.6958338), (1705, 0.7000441), (1706, 0.71568155), (1707, 0.68488586), (1708, 0.7317857), (1709, 0.5936683), (1710, 0.77556616), (1711, 0.6647942), (1712, 0.69193697), (1713, 0.70919615), (1714, 0.6689221), (1715, 0.7191015), (1716, 0.7124403), (1717, 0.74665624), (1718, 0.7102231), (1719, 0.742418), (1720, 0.70152545), (1721, 0.7526978), (1722, 0.6949123), (1723, 0.60637236), (1724, 0.6717312), (1725, 0.6614475), (1726, 0.73535705), (1727, 0.7625628), (1728, 0.6884037), (1729, 0.6611758), (1730, 0.6946783), (1731, 0.7544253), (1732, 0.7270563), (1733, 0.7514055), (1734, 0.7280911), (1735, 0.71401465), (1736, 0.6150867), (1737, 0.75366354), (1738, 0.6906464), (1739, 0.678135), (1740, 0.6859936), (1741, 0.7585957), (1742, 0.67904407), (1743, 0.7346764), (1744, 0.667933), (1745, 0.74108016), (1746, 0.71616626), (1747, 0.6123937), (1748, 0.6558085), (1749, 0.63980913), (1750, 0.7255852), (1751, 0.73801), (1752, 0.6935233), (1753, 0.6582408), (1754, 0.7161072), (1755, 0.7437287), (1756, 0.72919154), (1757, 0.6916968), (1758, 0.681976), (1759, 0.70933867), (1760, 0.70931244), (1761, 0.753148), (1762, 0.6922815), (1763, 0.6908487), (1764, 0.71524817), (1765, 0.7435927), (1766, 0.7686409), (1767, 0.7476965), (1768, 0.6859609), (1769, 0.74687517), (1770, 0.66179717), (1771, 0.64773077), (1772, 0.7013381), (1773, 0.6754123), (1774, 0.6521396), (1775, 0.7134827), (1776, 0.70412874), (1777, 0.73232865), (1778, 0.7582059), (1779, 0.683353), (1780, 0.7282122), (1781, 0.70504296), (1782, 0.70299315), (1783, 0.73261976), (1784, 0.6469811), (1785, 0.72748464), (1786, 0.66981083), (1787, 0.75435966), (1788, 0.70173955), (1789, 0.6962278), (1790, 0.71290463), (1791, 0.68560845), (1792, 0.7018667), (1793, 0.71100634), (1794, 0.7008972), (1795, 0.689374), (1796, 0.7318757), (1797, 0.7016189), (1798, 0.6880403), (1799, 0.7176737), (1800, 0.7146182), (1801, 0.70830977), (1802, 0.7824673), (1803, 0.719643), (1804, 0.72661746), (1805, 0.71892923), (1806, 0.6756514), (1807, 0.74146926), (1808, 0.75225717), (1809, 0.7281008), (1810, 0.7079157), (1811, 0.68578154), (1812, 0.68749815), (1813, 0.7004644), (1814, 0.7367493), (1815, 0.75244963), (1816, 0.7788895), (1817, 0.6647855), (1818, 0.7806409), (1819, 0.71772164), (1820, 0.7527149), (1821, 0.7198396), (1822, 0.66233736), (1823, 0.67196405), (1824, 0.63841474), (1825, 0.628431), (1826, 0.68084097), (1827, 0.7879689), (1828, 0.7216742), (1829, 0.7338748), (1830, 0.6341008), (1831, 0.63690805), (1832, 0.746908), (1833, 0.71381795), (1834, 0.73485124), (1835, 0.69993937), (1836, 0.7125785), (1837, 0.6761357), (1838, 0.7601329), (1839, 0.7163148), (1840, 0.6901904), (1841, 0.19339341), (1842, 0.7527452), (1843, 0.7598253), (1844, 0.71693754), (1845, 0.7353814), (1846, 0.70834), (1847, 0.75862586), (1848, 0.69737136), (1849, 0.72507083), (1850, 0.7379137), (1851, 0.7283231), (1852, 0.7352644), (1853, 0.7192084), (1854, 0.7360378), (1855, 0.71298367), (1856, 0.7665272), (1857, 0.74563783), (1858, 0.7176472), (1859, 0.7088682), (1860, 0.7533584), (1861, 0.63540107), (1862, 0.7574761), (1863, 0.7162981), (1864, 0.7093286), (1865, 0.66325957), (1866, 0.72542524), (1867, 0.7200599), (1868, 0.74313796), (1869, 0.6706511), (1870, 0.6619158), (1871, 0.72182393), (1872, 0.74079496), (1873, 0.7111919), (1874, 0.77320725), (1875, 0.74158067), (1876, 0.7585502), (1877, 0.70556307), (1878, 0.69665664), (1879, 0.7483884), (1880, 0.76143456), (1881, 0.72634476), (1882, 0.7353469), (1883, 0.71524715), (1884, 0.5794985), (1885, 0.6895302), (1886, 0.7169972), (1887, 0.7080851), (1888, 0.6755043), (1889, 0.7317258), (1890, 0.74971443), (1891, 0.7202925), (1892, 0.7564839), (1893, 0.76422644), (1894, 0.76071197), (1895, 0.7263968), (1896, 0.7019026), (1897, 0.74881357), (1898, 0.73231316), (1899, 0.68206024), (1900, 0.6865384), (1901, 0.7453321), (1902, 0.72493714), (1903, 0.674553), (1904, 0.7316654), (1905, 0.7299074), (1906, 0.7270536), (1907, 0.7838484), (1908, 0.64232737), (1909, 0.72871816), (1910, 0.71197003), (1911, 0.74893224), (1912, 0.69617754), (1913, 0.70848143), (1914, 0.631268), (1915, 0.73850596), (1916, 0.7622821), (1917, 0.6974639), (1918, 0.72538704), (1919, 0.71391386), (1920, 0.65844643), (1921, 0.69403636), (1922, 0.66544855), (1923, 0.7341642), (1924, 0.70857257), (1925, 0.6672928), (1926, 0.67632824), (1927, 0.6950314), (1928, 0.7846339), (1929, 0.7074998), (1930, 0.7419044), (1931, 0.72188866), (1932, 0.73128057), (1933, 0.7802482), (1934, 0.7386501), (1935, 0.7043637), (1936, 0.5724775), (1937, 0.67747164), (1938, 0.69038737), (1939, 0.73324823), (1940, 0.6990892), (1941, 0.73866445), (1942, 0.65972215), (1943, 0.70379895), (1944, 0.74572223), (1945, 0.75442135), (1946, 0.7666709), (1947, 0.74403495), (1948, 0.6961923), (1949, 0.71842545), (1950, 0.76275545), (1951, 0.65921783), (1952, 0.74020344), (1953, 0.692035), (1954, 0.7427649), (1955, 0.73397934), (1956, 0.7201616), (1957, 0.7310649), (1958, 0.6845452), (1959, 0.765195), (1960, 0.688208), (1961, 0.7059553), (1962, 0.70784366), (1963, 0.702624), (1964, 0.7153328), (1965, 0.7266376), (1966, 0.684018), (1967, 0.75365895), (1968, 0.6925174), (1969, 0.7397439), (1970, 0.7552267), (1971, 0.70649874), (1972, 0.65635306), (1973, 0.70368665), (1974, 0.76932305), (1975, 0.7427108), (1976, 0.7580939), (1977, 0.6550506), (1978, 0.6854443), (1979, 0.7064729), (1980, 0.6818721), (1981, 0.68061644), (1982, 0.69327134), (1983, 0.6411326), (1984, 0.67925227), (1985, 0.6836559), (1986, 0.71115035), (1987, 0.7012868), (1988, 0.70553493), (1989, 0.7298706), (1990, 0.6581441), (1991, 0.7131563), (1992, 0.78339607), (1993, 0.7269225), (1994, 0.73964876), (1995, 0.6957028), (1996, 0.8054899), (1997, 0.68157864), (1998, 0.6692848), (1999, 0.6904476), (2000, 0.731739), (2001, 0.7361425), (2002, 0.7165114), (2003, 0.70495725), (2004, 0.6956743), (2005, 0.64614725), (2006, 0.669798), (2007, 0.68964803), (2008, 0.7222126), (2009, 0.7128007), (2010, 0.6621131), (2011, 0.56150186), (2012, 0.7395647), (2013, 0.71181667), (2014, 0.764028), (2015, 0.7036359), (2016, 0.7658479), (2017, 0.6902787), (2018, 0.7107784), (2019, 0.63696927), (2020, 0.76495355), (2021, 0.6674431), (2022, 0.73593026), (2023, 0.13855891), (2024, 0.74877644), (2025, 0.71172243), (2026, 0.63631976), (2027, 0.6989273), (2028, 0.6627731), (2029, 0.6500491), (2030, 0.6547421), (2031, 0.68777364), (2032, 0.74139804), (2033, 0.6922886), (2034, 0.75265056), (2035, 0.6964288), (2036, 0.72343487), (2037, 0.6981109), (2038, 0.7275829), (2039, 0.70806706), (2040, 0.7086523), (2041, 0.74586266), (2042, 0.7609356), (2043, 0.68913007), (2044, 0.7197159), (2045, 0.7079621), (2046, 0.6851998), (2047, 0.725274), (2048, 0.6955578), (2049, 0.7411604), (2050, 0.625922), (2051, 0.7056477), (2052, 0.7029246), (2053, 0.68052375), (2054, 0.6867216), (2055, 0.767552), (2056, 0.7238125), (2057, 0.66488135), (2058, 0.74755937), (2059, 0.64318436), (2060, 0.7441594), (2061, 0.7316965), (2062, 0.69577134), (2063, 0.66411877), (2064, 0.7204848), (2065, 0.74888355), (2066, 0.69542265), (2067, 0.73387784), (2068, 0.7267767), (2069, 0.7462036), (2070, 0.74022096), (2071, 0.7428156), (2072, 0.7437383), (2073, 0.64220214), (2074, 0.73701483), (2075, 0.7516374), (2076, 0.61905), (2077, 0.7317547), (2078, 0.75371075), (2079, 0.73279285), (2080, 0.7383035), (2081, 0.7396012), (2082, 0.7231142), (2083, 0.72548074), (2084, 0.6538212), (2085, 0.6935741), (2086, 0.722783), (2087, 0.7257123), (2088, 0.75703627), (2089, 0.7248672), (2090, 0.67385304), (2091, 0.7415863), (2092, 0.6749405), (2093, 0.7794485), (2094, 0.78030765), (2095, 0.6822064), (2096, 0.592312), (2097, 0.6308193), (2098, 0.7740189), (2099, 0.7820734), (2100, 0.6485969), (2101, 0.7159773), (2102, 0.66864836), (2103, 0.73722845), (2104, 0.73467374), (2105, 0.72662175), (2106, 0.7082225), (2107, 0.7460648), (2108, 0.7427195), (2109, 0.68811154), (2110, 0.7300453), (2111, 0.71674466), (2112, 0.6820255), (2113, 0.67740726), (2114, 0.7010228), (2115, 0.677184), (2116, 0.73289967), (2117, 0.6946168), (2118, 0.6884121), (2119, 0.70740676), (2120, 0.722416), (2121, 0.69048375), (2122, 0.7406447), (2123, 0.7039959), (2124, 0.7113039), (2125, 0.690059), (2126, 0.69465387), (2127, 0.7224042), (2128, 0.6954808), (2129, 0.6780266), (2130, 0.6752223), (2131, 0.7245077), (2132, 0.66109556), (2133, 0.74530494), (2134, 0.73503715), (2135, 0.72874063), (2136, 0.7346623), (2137, 0.7627781), (2138, 0.7398297), (2139, 0.74655044), (2140, 0.6135628), (2141, 0.75059944), (2142, 0.6419832), (2143, 0.7259549), (2144, 0.7358595), (2145, 0.734027), (2146, 0.741125), (2147, 0.7158411), (2148, 0.7201197), (2149, 0.68890154), (2150, 0.64056104), (2151, 0.72620624), (2152, 0.76172477), (2153, 0.6406872), (2154, 0.66880786), (2155, 0.72474444), (2156, 0.7302739), (2157, 0.7260651), (2158, 0.7258353), (2159, 0.6769503), (2160, 0.67068696), (2161, 0.74470246), (2162, 0.74222416), (2163, 0.73088527), (2164, 0.69582766), (2165, 0.72007), (2166, 0.68942076), (2167, 0.6727933), (2168, 0.13106775), (2169, 0.71672016), (2170, 0.73388195), (2171, 0.7180336), (2172, 0.690006), (2173, 0.73790604), (2174, 0.66657734), (2175, 0.70483804), (2176, 0.73945516), (2177, 0.713704), (2178, 0.7329649), (2179, 0.6994972), (2180, 0.75115025), (2181, 0.72095966), (2182, 0.6946749), (2183, 0.72512853), (2184, 0.6887945), (2185, 0.67584467), (2186, 0.709848), (2187, 0.706472), (2188, 0.7449097), (2189, 0.67153543), (2190, 0.7404636), (2191, 0.69318455), (2192, 0.7451988), (2193, 0.7067935), (2194, 0.69574124), (2195, 0.6917549), (2196, 0.7550294), (2197, 0.7242584), (2198, 0.64562607), (2199, 0.6518017), (2200, 0.65117955), (2201, 0.6935735), (2202, 0.7006169), (2203, 0.7308959), (2204, 0.6576144), (2205, 0.6532467), (2206, 0.6753949), (2207, 0.7769036), (2208, 0.6908984), (2209, 0.69163483), (2210, 0.6505341), (2211, 0.71367997), (2212, 0.6704376), (2213, 0.67221683), (2214, 0.74823856), (2215, 0.71413714), (2216, 0.681037), (2217, 0.72078305), (2218, 0.72358733), (2219, 0.680638), (2220, 0.73562956), (2221, 0.73360455), (2222, 0.7182766), (2223, 0.7278038), (2224, 0.7662515), (2225, 0.7503883), (2226, 0.748582), (2227, 0.7423726), (2228, 0.7315088), (2229, 0.7541431), (2230, 0.7218078), (2231, 0.6752362), (2232, 0.64056104), (2233, 0.72246933), (2234, 0.72281754), (2235, 0.68944836), (2236, 0.76062495), (2237, 0.59400946), (2238, 0.73756766), (2239, 0.6951011), (2240, 0.73446685), (2241, 0.6933537), (2242, 0.69372207), (2243, 0.72156954), (2244, 0.73515016), (2245, 0.72119737), (2246, 0.6900175), (2247, 0.7151766), (2248, 0.76513773), (2249, 0.7216205), (2250, 0.67865986), (2251, 0.7716994), (2252, 0.7054394), (2253, 0.6668845), (2254, 0.72873336), (2255, 0.77756125), (2256, 0.7103549), (2257, 0.63616836), (2258, 0.7573291), (2259, 0.74173903), (2260, 0.70499486), (2261, 0.7308268), (2262, 0.73418045), (2263, 0.6987559), (2264, 0.73515105), (2265, 0.76985514), (2266, 0.6918603), (2267, 0.68966025), (2268, 0.7817834), (2269, 0.6599829), (2270, 0.6869393), (2271, 0.7350816), (2272, 0.6929253), (2273, 0.7131563), (2274, 0.70996916), (2275, 0.6640274), (2276, 0.68386257), (2277, 0.7497064), (2278, 0.74677086), (2279, 0.72695374), (2280, 0.7730644), (2281, 0.78941053), (2282, 0.6682859), (2283, 0.5702432), (2284, 0.62782794), (2285, 0.66944534), (2286, 0.6898589), (2287, 0.74065244), (2288, 0.6858561), (2289, 0.7376177), (2290, 0.6818611), (2291, 0.76116496), (2292, 0.6907552), (2293, 0.7231367), (2294, 0.6667979), (2295, 0.72241616), (2296, 0.74044144), (2297, 0.6737702), (2298, 0.6312544), (2299, 0.7356125), (2300, 0.6976686), (2301, 0.742204), (2302, 0.6941932), (2303, 0.6605155), (2304, 0.74632746), (2305, 0.7388702), (2306, 0.72633153), (2307, 0.6963097), (2308, 0.7321199), (2309, 0.72641623), (2310, 0.7396205), (2311, 0.70533586), (2312, 0.7184787), (2313, 0.6335837), (2314, 0.68921334), (2315, 0.7079886), (2316, 0.65927774), (2317, 0.70544034), (2318, 0.79763085), (2319, 0.7418429), (2320, 0.6954424), (2321, 0.7418425), (2322, 0.70366555), (2323, 0.7231063), (2324, 0.7459192), (2325, 0.74289733), (2326, 0.745429), (2327, 0.68805075), (2328, 0.6972844), (2329, 0.7252412), (2330, 0.73011863), (2331, 0.76088625), (2332, 0.7103194), (2333, 0.72226816), (2334, 0.72567284), (2335, 0.68755424), (2336, 0.75397), (2337, 0.7326397), (2338, 0.7231524), (2339, 0.7205323), (2340, 0.74008524), (2341, 0.6868886), (2342, 0.743851), (2343, 0.6651402), (2344, 0.68454945), (2345, 0.68406755), (2346, 0.7009234), (2347, 0.6632312), (2348, 0.78235847), (2349, 0.67892915), (2350, 0.74700016), (2351, 0.71007836), (2352, 0.7116654), (2353, 0.70304334), (2354, 0.7634665), (2355, 0.6849162), (2356, 0.6724833), (2357, 0.7530687), (2358, 0.72766995), (2359, 0.531971), (2360, 0.6968048), (2361, 0.66769433), (2362, 0.7067537), (2363, 0.68202883), (2364, 0.6948553), (2365, 0.74947095), (2366, 0.74201304), (2367, 0.7004732), (2368, 0.6842137), (2369, 0.72531426), (2370, 0.6921852), (2371, 0.728518), (2372, 0.7106536), (2373, 0.68977964), (2374, 0.7525094), (2375, 0.726322), (2376, 0.1495397), (2377, 0.6651357), (2378, 0.7205972), (2379, 0.6711928), (2380, 0.75324404)]\n"
          ],
          "name": "stdout"
        }
      ]
    },
    {
      "cell_type": "code",
      "metadata": {
        "id": "1w-aSPaMKToU"
      },
      "source": [
        "sim_scores_list = sorted(sim_scores, key = lambda x:x[1], reverse=True)"
      ],
      "execution_count": null,
      "outputs": []
    },
    {
      "cell_type": "code",
      "metadata": {
        "colab": {
          "base_uri": "https://localhost:8080/"
        },
        "id": "fXyZQdlDKvv7",
        "outputId": "35df3293-1403-40fc-c99a-5b3e0a09bd81"
      },
      "source": [
        "sim_scores_list[1:11]"
      ],
      "execution_count": null,
      "outputs": [
        {
          "output_type": "execute_result",
          "data": {
            "text/plain": [
              "[(6, 0.8593215),\n",
              " (225, 0.85243374),\n",
              " (537, 0.84788424),\n",
              " (606, 0.84673786),\n",
              " (331, 0.84571534),\n",
              " (160, 0.84255934),\n",
              " (1083, 0.84130746),\n",
              " (887, 0.8391184),\n",
              " (358, 0.8390085),\n",
              " (907, 0.8389222)]"
            ]
          },
          "metadata": {},
          "execution_count": 77
        }
      ]
    },
    {
      "cell_type": "code",
      "metadata": {
        "colab": {
          "base_uri": "https://localhost:8080/"
        },
        "id": "wrpRqv48MYBz",
        "outputId": "95cae59c-a218-409b-8594-0b4a1510d47c"
      },
      "source": [
        "topsim10 = sim_scores_list[1:11]\n",
        "topsim10"
      ],
      "execution_count": null,
      "outputs": [
        {
          "output_type": "execute_result",
          "data": {
            "text/plain": [
              "[(6, 0.8593215),\n",
              " (225, 0.85243374),\n",
              " (537, 0.84788424),\n",
              " (606, 0.84673786),\n",
              " (331, 0.84571534),\n",
              " (160, 0.84255934),\n",
              " (1083, 0.84130746),\n",
              " (887, 0.8391184),\n",
              " (358, 0.8390085),\n",
              " (907, 0.8389222)]"
            ]
          },
          "metadata": {},
          "execution_count": 82
        }
      ]
    },
    {
      "cell_type": "markdown",
      "metadata": {
        "id": "LkinU_LnMsyh"
      },
      "source": [
        "# 최종 유사 title 10순위 출력"
      ]
    },
    {
      "cell_type": "code",
      "metadata": {
        "colab": {
          "base_uri": "https://localhost:8080/"
        },
        "id": "cbCAcrInLEUl",
        "outputId": "0bb527cb-d449-4305-ddbb-2fff9ac883d0"
      },
      "source": [
        "for i in range(len(topsim10)):\n",
        "  print(df_data.iloc[topsim10[i][0]]['title'])\n",
        "  # print(topsim10[i][0])"
      ],
      "execution_count": null,
      "outputs": [
        {
          "output_type": "stream",
          "text": [
            "The Man Who Solved the Market: How Jim Simons Launched the Quant Revolution\n",
            "Disrupt You!: Master Personal Transformation, Seize Opportunity, and Thrive in the Era of Endless Innovation\n",
            "The Future of Capitalism: Facing the New Anxieties\n",
            "Principles: Life and Work\n",
            "Case Interview Secrets: A Former McKinsey Interviewer Reveals How to Get Multiple Job Offers in Consulting\n",
            "The Startup Playbook: Secrets of the Fastest-Growing Startups from Their Founding Entrepreneurs\n",
            "Go Put Your Strengths to Work: 6 Powerful Steps to Achieve Outstanding Performance\n",
            "Creative Confidence: Unleashing the Creative Potential Within Us All\n",
            "Knowing Your Value: Women, Money, and Getting What You're Worth\n",
            "Orbiting the Giant Hairball: A Corporate Fool's Guide to Surviving with Grace\n"
          ],
          "name": "stdout"
        }
      ]
    },
    {
      "cell_type": "code",
      "metadata": {
        "id": "GhX3pQdEL6T-"
      },
      "source": [
        ""
      ],
      "execution_count": null,
      "outputs": []
    }
  ]
}