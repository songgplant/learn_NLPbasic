{
  "nbformat": 4,
  "nbformat_minor": 0,
  "metadata": {
    "colab": {
      "name": "LearnNLP_spaCy.ipynb",
      "provenance": [],
      "collapsed_sections": [],
      "authorship_tag": "ABX9TyPn/UAsQR+jSeugcwEPuzXs",
      "include_colab_link": true
    },
    "kernelspec": {
      "name": "python3",
      "display_name": "Python 3"
    },
    "language_info": {
      "name": "python"
    }
  },
  "cells": [
    {
      "cell_type": "markdown",
      "metadata": {
        "id": "view-in-github",
        "colab_type": "text"
      },
      "source": [
        "<a href=\"https://colab.research.google.com/github/songgplant/learn_NLPbasic/blob/master/LearnNLP_spaCy.ipynb\" target=\"_parent\"><img src=\"https://colab.research.google.com/assets/colab-badge.svg\" alt=\"Open In Colab\"/></a>"
      ]
    },
    {
      "cell_type": "markdown",
      "source": [
        "I start to learn about NLP(Natural Language Processing) with spaCy. This tutorial of basic NLP course has just 3 steps, so you can follow this process more easily, like me! My python version is 3.6.4. Maybe it can be preferred to run codes at your Google Colaboratory or Kaggle. Kaggle provides free notes for all members with kaggle account.\n",
        "- reference : https://www.kaggle.com/matleonard/intro-to-nlp#Intro"
      ],
      "metadata": {
        "id": "aCOB_7-4HpR1"
      }
    },
    {
      "cell_type": "markdown",
      "source": [
        "## NLP with spaCy"
      ],
      "metadata": {
        "id": "qhWlNIFhIhQt"
      }
    },
    {
      "cell_type": "code",
      "execution_count": 1,
      "metadata": {
        "id": "Hu1ycYoGHVN8"
      },
      "outputs": [],
      "source": [
        "import spacy"
      ]
    },
    {
      "cell_type": "code",
      "source": [
        "nlp = spacy.load('en_core_web_sm')"
      ],
      "metadata": {
        "id": "0ZHqwBYUHZgA"
      },
      "execution_count": 2,
      "outputs": []
    },
    {
      "cell_type": "code",
      "source": [
        "nlp"
      ],
      "metadata": {
        "colab": {
          "base_uri": "https://localhost:8080/"
        },
        "id": "z7e9abZbHhfj",
        "outputId": "6893391d-ba0f-438a-b921-97d0b1877f71"
      },
      "execution_count": 3,
      "outputs": [
        {
          "output_type": "execute_result",
          "data": {
            "text/plain": [
              "<spacy.lang.en.English at 0x7f62566488d0>"
            ]
          },
          "metadata": {},
          "execution_count": 3
        }
      ]
    },
    {
      "cell_type": "code",
      "source": [
        "print(nlp)"
      ],
      "metadata": {
        "colab": {
          "base_uri": "https://localhost:8080/"
        },
        "id": "mzPlknZEHixr",
        "outputId": "1c637509-05c0-4b60-e178-c10fe0b4aa3a"
      },
      "execution_count": 4,
      "outputs": [
        {
          "output_type": "stream",
          "name": "stdout",
          "text": [
            "<spacy.lang.en.English object at 0x7f62566488d0>\n"
          ]
        }
      ]
    },
    {
      "cell_type": "code",
      "source": [
        "doc = nlp(\"Tea is healthy and calming, don't you think?\")"
      ],
      "metadata": {
        "id": "rRkwdvMxHj7O"
      },
      "execution_count": 5,
      "outputs": []
    },
    {
      "cell_type": "code",
      "source": [
        "doc"
      ],
      "metadata": {
        "colab": {
          "base_uri": "https://localhost:8080/"
        },
        "id": "2INmEoHpIWIn",
        "outputId": "0ced9c63-2fe9-41a2-9a35-f1164106df9e"
      },
      "execution_count": 6,
      "outputs": [
        {
          "output_type": "execute_result",
          "data": {
            "text/plain": [
              "Tea is healthy and calming, don't you think?"
            ]
          },
          "metadata": {},
          "execution_count": 6
        }
      ]
    },
    {
      "cell_type": "markdown",
      "source": [
        "## Tokenizing"
      ],
      "metadata": {
        "id": "NB8_NYutIjqE"
      }
    },
    {
      "cell_type": "code",
      "source": [
        "for token in doc :\n",
        "  print(token)"
      ],
      "metadata": {
        "colab": {
          "base_uri": "https://localhost:8080/"
        },
        "id": "IR4NWcztIW9l",
        "outputId": "c7eac634-9bb6-464d-b76c-fb1caf1b7378"
      },
      "execution_count": 7,
      "outputs": [
        {
          "output_type": "stream",
          "name": "stdout",
          "text": [
            "Tea\n",
            "is\n",
            "healthy\n",
            "and\n",
            "calming\n",
            ",\n",
            "do\n",
            "n't\n",
            "you\n",
            "think\n",
            "?\n"
          ]
        }
      ]
    },
    {
      "cell_type": "markdown",
      "source": [
        "## Text preprocessing"
      ],
      "metadata": {
        "id": "ay7L5a6pJAaP"
      }
    },
    {
      "cell_type": "code",
      "source": [
        "print(f\"Token \\t\\tLemma \\t\\tStopword\".format('Token', 'Lemma', 'Stopword'))\n",
        "print(\"=\"*40)\n",
        "for token in doc :\n",
        "  print(f\"{str(token)}\\t\\t{token.lemma_}\\t\\t{token.is_stop}\") # token만 str형일까"
      ],
      "metadata": {
        "colab": {
          "base_uri": "https://localhost:8080/"
        },
        "id": "yHPCFMz9I2WS",
        "outputId": "89446ea6-5a4c-490a-95b3-fce9a02e6137"
      },
      "execution_count": 9,
      "outputs": [
        {
          "output_type": "stream",
          "name": "stdout",
          "text": [
            "Token \t\tLemma \t\tStopword\n",
            "========================================\n",
            "Tea\t\ttea\t\tFalse\n",
            "is\t\tbe\t\tTrue\n",
            "healthy\t\thealthy\t\tFalse\n",
            "and\t\tand\t\tTrue\n",
            "calming\t\tcalm\t\tFalse\n",
            ",\t\t,\t\tFalse\n",
            "do\t\tdo\t\tTrue\n",
            "n't\t\tnot\t\tTrue\n",
            "you\t\t-PRON-\t\tTrue\n",
            "think\t\tthink\t\tFalse\n",
            "?\t\t?\t\tFalse\n"
          ]
        }
      ]
    },
    {
      "cell_type": "code",
      "source": [
        "print(f\"Token \\t\\tLemma \\t\\tStopword\".format('Token', 'Lemma', 'Stopword'))\n",
        "print(\"=\"*40)\n",
        "for token in doc :\n",
        "  print(f\"{token}\\t\\t{token.lemma_}\\t\\t{token.is_stop}\") #위 코드와 결과 동일"
      ],
      "metadata": {
        "colab": {
          "base_uri": "https://localhost:8080/"
        },
        "id": "ct_d0wPpJ1qv",
        "outputId": "b0829571-3ecd-47df-f183-1665735df385"
      },
      "execution_count": 10,
      "outputs": [
        {
          "output_type": "stream",
          "name": "stdout",
          "text": [
            "Token \t\tLemma \t\tStopword\n",
            "========================================\n",
            "Tea\t\ttea\t\tFalse\n",
            "is\t\tbe\t\tTrue\n",
            "healthy\t\thealthy\t\tFalse\n",
            "and\t\tand\t\tTrue\n",
            "calming\t\tcalm\t\tFalse\n",
            ",\t\t,\t\tFalse\n",
            "do\t\tdo\t\tTrue\n",
            "n't\t\tnot\t\tTrue\n",
            "you\t\t-PRON-\t\tTrue\n",
            "think\t\tthink\t\tFalse\n",
            "?\t\t?\t\tFalse\n"
          ]
        }
      ]
    },
    {
      "cell_type": "code",
      "source": [
        "for token in doc :\n",
        "  print(type(token), type(token.lemma_), type(token.is_stop))"
      ],
      "metadata": {
        "colab": {
          "base_uri": "https://localhost:8080/"
        },
        "id": "dqI2wgJLKCAS",
        "outputId": "01bcf2e2-00d2-4d26-8d44-d2e24c89581a"
      },
      "execution_count": 11,
      "outputs": [
        {
          "output_type": "stream",
          "name": "stdout",
          "text": [
            "<class 'spacy.tokens.token.Token'> <class 'str'> <class 'bool'>\n",
            "<class 'spacy.tokens.token.Token'> <class 'str'> <class 'bool'>\n",
            "<class 'spacy.tokens.token.Token'> <class 'str'> <class 'bool'>\n",
            "<class 'spacy.tokens.token.Token'> <class 'str'> <class 'bool'>\n",
            "<class 'spacy.tokens.token.Token'> <class 'str'> <class 'bool'>\n",
            "<class 'spacy.tokens.token.Token'> <class 'str'> <class 'bool'>\n",
            "<class 'spacy.tokens.token.Token'> <class 'str'> <class 'bool'>\n",
            "<class 'spacy.tokens.token.Token'> <class 'str'> <class 'bool'>\n",
            "<class 'spacy.tokens.token.Token'> <class 'str'> <class 'bool'>\n",
            "<class 'spacy.tokens.token.Token'> <class 'str'> <class 'bool'>\n",
            "<class 'spacy.tokens.token.Token'> <class 'str'> <class 'bool'>\n"
          ]
        }
      ]
    },
    {
      "cell_type": "markdown",
      "source": [
        "## Pattern Matching"
      ],
      "metadata": {
        "id": "6ceTqOcXLHai"
      }
    },
    {
      "cell_type": "code",
      "source": [
        "from spacy.matcher import PhraseMatcher\n",
        "matcher = PhraseMatcher(nlp.vocab, attr='LOWER')"
      ],
      "metadata": {
        "id": "MxSmZLyKKQDw"
      },
      "execution_count": 12,
      "outputs": []
    },
    {
      "cell_type": "code",
      "source": [
        "matcher"
      ],
      "metadata": {
        "colab": {
          "base_uri": "https://localhost:8080/"
        },
        "id": "VSwJMpBUL-DN",
        "outputId": "cb450838-590f-4140-a153-30f1bcda1f96"
      },
      "execution_count": 13,
      "outputs": [
        {
          "output_type": "execute_result",
          "data": {
            "text/plain": [
              "<spacy.matcher.phrasematcher.PhraseMatcher at 0x7f62555242d0>"
            ]
          },
          "metadata": {},
          "execution_count": 13
        }
      ]
    },
    {
      "cell_type": "code",
      "source": [
        "print(matcher)"
      ],
      "metadata": {
        "colab": {
          "base_uri": "https://localhost:8080/"
        },
        "id": "UufXLFjmL-7d",
        "outputId": "85dfdbbe-3b54-4b14-da91-a024fc9e7be8"
      },
      "execution_count": 14,
      "outputs": [
        {
          "output_type": "stream",
          "name": "stdout",
          "text": [
            "<spacy.matcher.phrasematcher.PhraseMatcher object at 0x7f62555242d0>\n"
          ]
        }
      ]
    },
    {
      "cell_type": "code",
      "source": [
        "terms = ['Galaxy Note', 'iPhone 11', 'iPhone XS', 'Google Pixel']\n",
        "patterns = [nlp(text) for text in terms]\n",
        "matcher.add(\"TerminologyList\", patterns)"
      ],
      "metadata": {
        "id": "0mi-qMbLMANL"
      },
      "execution_count": 15,
      "outputs": []
    },
    {
      "cell_type": "code",
      "source": [
        "# 패턴을 찾고 싶은 문장 nlp에 넣기\n",
        "text_doc = nlp(\"Glowing review overall, and some really interesting side-by-side \"\n",
        "               \"photography tests pitting the iPhone 11 Pro against the \"\n",
        "               \"Galaxy Note 10 Plus and last year’s iPhone XS and Google Pixel 3.\")"
      ],
      "metadata": {
        "id": "3l2YyoEzM8Mv"
      },
      "execution_count": 16,
      "outputs": []
    },
    {
      "cell_type": "code",
      "source": [
        "text_doc"
      ],
      "metadata": {
        "colab": {
          "base_uri": "https://localhost:8080/"
        },
        "id": "zgLs8KsxNQ3-",
        "outputId": "021c1461-b3f5-4b06-eb39-6687528ce9ee"
      },
      "execution_count": 17,
      "outputs": [
        {
          "output_type": "execute_result",
          "data": {
            "text/plain": [
              "Glowing review overall, and some really interesting side-by-side photography tests pitting the iPhone 11 Pro against the Galaxy Note 10 Plus and last year’s iPhone XS and Google Pixel 3."
            ]
          },
          "metadata": {},
          "execution_count": 17
        }
      ]
    },
    {
      "cell_type": "code",
      "source": [
        "matches = matcher(text_doc)"
      ],
      "metadata": {
        "id": "iDHKdpy3NSHG"
      },
      "execution_count": 18,
      "outputs": []
    },
    {
      "cell_type": "code",
      "source": [
        "print(matches)"
      ],
      "metadata": {
        "colab": {
          "base_uri": "https://localhost:8080/"
        },
        "id": "lS2Jr3uFNXAd",
        "outputId": "86b73652-86d0-4f0c-d6e8-a7a8150bb42f"
      },
      "execution_count": 19,
      "outputs": [
        {
          "output_type": "stream",
          "name": "stdout",
          "text": [
            "[(3766102292120407359, 17, 19), (3766102292120407359, 22, 24), (3766102292120407359, 30, 32), (3766102292120407359, 33, 35)]\n"
          ]
        }
      ]
    },
    {
      "cell_type": "code",
      "source": [
        "matches[0][0], type(matches[0][0])"
      ],
      "metadata": {
        "colab": {
          "base_uri": "https://localhost:8080/"
        },
        "id": "HtkZUf7hNZ6O",
        "outputId": "fb2de597-27f6-4a1a-99ad-225eaa95086c"
      },
      "execution_count": 22,
      "outputs": [
        {
          "output_type": "execute_result",
          "data": {
            "text/plain": [
              "(3766102292120407359, int)"
            ]
          },
          "metadata": {},
          "execution_count": 22
        }
      ]
    },
    {
      "cell_type": "code",
      "source": [
        "match_id, start, end = matches[0]"
      ],
      "metadata": {
        "id": "Zhj9pelyNgnP"
      },
      "execution_count": 23,
      "outputs": []
    },
    {
      "cell_type": "code",
      "source": [
        "match_id"
      ],
      "metadata": {
        "colab": {
          "base_uri": "https://localhost:8080/"
        },
        "id": "ApgpHgDfNoWv",
        "outputId": "cdf21d46-3d82-4e9a-b091-38bd177d21f9"
      },
      "execution_count": 24,
      "outputs": [
        {
          "output_type": "execute_result",
          "data": {
            "text/plain": [
              "3766102292120407359"
            ]
          },
          "metadata": {},
          "execution_count": 24
        }
      ]
    },
    {
      "cell_type": "code",
      "source": [
        "start"
      ],
      "metadata": {
        "colab": {
          "base_uri": "https://localhost:8080/"
        },
        "id": "SYOXui8XNp52",
        "outputId": "51d75f7f-af65-483e-c9a6-5b3d95a878d9"
      },
      "execution_count": 25,
      "outputs": [
        {
          "output_type": "execute_result",
          "data": {
            "text/plain": [
              "17"
            ]
          },
          "metadata": {},
          "execution_count": 25
        }
      ]
    },
    {
      "cell_type": "code",
      "source": [
        "end"
      ],
      "metadata": {
        "colab": {
          "base_uri": "https://localhost:8080/"
        },
        "id": "mXFoTbvNNqv0",
        "outputId": "78efa3d7-53e2-4495-fd47-42735dbeed88"
      },
      "execution_count": 26,
      "outputs": [
        {
          "output_type": "execute_result",
          "data": {
            "text/plain": [
              "19"
            ]
          },
          "metadata": {},
          "execution_count": 26
        }
      ]
    },
    {
      "cell_type": "code",
      "source": [
        "print(nlp.vocab.strings[match_id], text_doc[start:end])"
      ],
      "metadata": {
        "colab": {
          "base_uri": "https://localhost:8080/"
        },
        "id": "An2ZqrymNthO",
        "outputId": "61654a4d-1dc6-49b3-9367-fc19fbe56432"
      },
      "execution_count": 29,
      "outputs": [
        {
          "output_type": "stream",
          "name": "stdout",
          "text": [
            "TerminologyList iPhone 11\n"
          ]
        }
      ]
    },
    {
      "cell_type": "code",
      "source": [
        ""
      ],
      "metadata": {
        "id": "JKI8uj2vOAjY"
      },
      "execution_count": null,
      "outputs": []
    }
  ]
}