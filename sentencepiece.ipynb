{
  "nbformat": 4,
  "nbformat_minor": 0,
  "metadata": {
    "colab": {
      "name": "sentencepiece.ipynb",
      "provenance": []
    },
    "kernelspec": {
      "name": "python3",
      "display_name": "Python 3"
    },
    "language_info": {
      "name": "python"
    }
  },
  "cells": [
    {
      "cell_type": "markdown",
      "metadata": {
        "id": "5eVZzSU7RvmD"
      },
      "source": [
        "from https://wikidocs.net/86657"
      ]
    },
    {
      "cell_type": "code",
      "metadata": {
        "colab": {
          "base_uri": "https://localhost:8080/"
        },
        "id": "CMssAihXIppG",
        "outputId": "e23f7301-901d-4ca1-bd20-decb3748c80b"
      },
      "source": [
        "!python -m pip install sentencepiece"
      ],
      "execution_count": null,
      "outputs": [
        {
          "output_type": "stream",
          "text": [
            "Collecting sentencepiece\n",
            "  Downloading sentencepiece-0.1.96-cp37-cp37m-manylinux_2_17_x86_64.manylinux2014_x86_64.whl (1.2 MB)\n",
            "\u001b[?25l\r\u001b[K     |▎                               | 10 kB 25.6 MB/s eta 0:00:01\r\u001b[K     |▌                               | 20 kB 28.9 MB/s eta 0:00:01\r\u001b[K     |▉                               | 30 kB 33.5 MB/s eta 0:00:01\r\u001b[K     |█                               | 40 kB 36.0 MB/s eta 0:00:01\r\u001b[K     |█▍                              | 51 kB 37.6 MB/s eta 0:00:01\r\u001b[K     |█▋                              | 61 kB 39.2 MB/s eta 0:00:01\r\u001b[K     |██                              | 71 kB 26.6 MB/s eta 0:00:01\r\u001b[K     |██▏                             | 81 kB 25.9 MB/s eta 0:00:01\r\u001b[K     |██▍                             | 92 kB 27.6 MB/s eta 0:00:01\r\u001b[K     |██▊                             | 102 kB 29.7 MB/s eta 0:00:01\r\u001b[K     |███                             | 112 kB 29.7 MB/s eta 0:00:01\r\u001b[K     |███▎                            | 122 kB 29.7 MB/s eta 0:00:01\r\u001b[K     |███▌                            | 133 kB 29.7 MB/s eta 0:00:01\r\u001b[K     |███▉                            | 143 kB 29.7 MB/s eta 0:00:01\r\u001b[K     |████                            | 153 kB 29.7 MB/s eta 0:00:01\r\u001b[K     |████▎                           | 163 kB 29.7 MB/s eta 0:00:01\r\u001b[K     |████▋                           | 174 kB 29.7 MB/s eta 0:00:01\r\u001b[K     |████▉                           | 184 kB 29.7 MB/s eta 0:00:01\r\u001b[K     |█████▏                          | 194 kB 29.7 MB/s eta 0:00:01\r\u001b[K     |█████▍                          | 204 kB 29.7 MB/s eta 0:00:01\r\u001b[K     |█████▊                          | 215 kB 29.7 MB/s eta 0:00:01\r\u001b[K     |██████                          | 225 kB 29.7 MB/s eta 0:00:01\r\u001b[K     |██████▏                         | 235 kB 29.7 MB/s eta 0:00:01\r\u001b[K     |██████▌                         | 245 kB 29.7 MB/s eta 0:00:01\r\u001b[K     |██████▊                         | 256 kB 29.7 MB/s eta 0:00:01\r\u001b[K     |███████                         | 266 kB 29.7 MB/s eta 0:00:01\r\u001b[K     |███████▎                        | 276 kB 29.7 MB/s eta 0:00:01\r\u001b[K     |███████▋                        | 286 kB 29.7 MB/s eta 0:00:01\r\u001b[K     |███████▉                        | 296 kB 29.7 MB/s eta 0:00:01\r\u001b[K     |████████                        | 307 kB 29.7 MB/s eta 0:00:01\r\u001b[K     |████████▍                       | 317 kB 29.7 MB/s eta 0:00:01\r\u001b[K     |████████▋                       | 327 kB 29.7 MB/s eta 0:00:01\r\u001b[K     |█████████                       | 337 kB 29.7 MB/s eta 0:00:01\r\u001b[K     |█████████▏                      | 348 kB 29.7 MB/s eta 0:00:01\r\u001b[K     |█████████▌                      | 358 kB 29.7 MB/s eta 0:00:01\r\u001b[K     |█████████▊                      | 368 kB 29.7 MB/s eta 0:00:01\r\u001b[K     |██████████                      | 378 kB 29.7 MB/s eta 0:00:01\r\u001b[K     |██████████▎                     | 389 kB 29.7 MB/s eta 0:00:01\r\u001b[K     |██████████▌                     | 399 kB 29.7 MB/s eta 0:00:01\r\u001b[K     |██████████▉                     | 409 kB 29.7 MB/s eta 0:00:01\r\u001b[K     |███████████                     | 419 kB 29.7 MB/s eta 0:00:01\r\u001b[K     |███████████▍                    | 430 kB 29.7 MB/s eta 0:00:01\r\u001b[K     |███████████▋                    | 440 kB 29.7 MB/s eta 0:00:01\r\u001b[K     |███████████▉                    | 450 kB 29.7 MB/s eta 0:00:01\r\u001b[K     |████████████▏                   | 460 kB 29.7 MB/s eta 0:00:01\r\u001b[K     |████████████▍                   | 471 kB 29.7 MB/s eta 0:00:01\r\u001b[K     |████████████▊                   | 481 kB 29.7 MB/s eta 0:00:01\r\u001b[K     |█████████████                   | 491 kB 29.7 MB/s eta 0:00:01\r\u001b[K     |█████████████▎                  | 501 kB 29.7 MB/s eta 0:00:01\r\u001b[K     |█████████████▌                  | 512 kB 29.7 MB/s eta 0:00:01\r\u001b[K     |█████████████▊                  | 522 kB 29.7 MB/s eta 0:00:01\r\u001b[K     |██████████████                  | 532 kB 29.7 MB/s eta 0:00:01\r\u001b[K     |██████████████▎                 | 542 kB 29.7 MB/s eta 0:00:01\r\u001b[K     |██████████████▋                 | 552 kB 29.7 MB/s eta 0:00:01\r\u001b[K     |██████████████▉                 | 563 kB 29.7 MB/s eta 0:00:01\r\u001b[K     |███████████████▏                | 573 kB 29.7 MB/s eta 0:00:01\r\u001b[K     |███████████████▍                | 583 kB 29.7 MB/s eta 0:00:01\r\u001b[K     |███████████████▋                | 593 kB 29.7 MB/s eta 0:00:01\r\u001b[K     |████████████████                | 604 kB 29.7 MB/s eta 0:00:01\r\u001b[K     |████████████████▏               | 614 kB 29.7 MB/s eta 0:00:01\r\u001b[K     |████████████████▌               | 624 kB 29.7 MB/s eta 0:00:01\r\u001b[K     |████████████████▊               | 634 kB 29.7 MB/s eta 0:00:01\r\u001b[K     |█████████████████               | 645 kB 29.7 MB/s eta 0:00:01\r\u001b[K     |█████████████████▎              | 655 kB 29.7 MB/s eta 0:00:01\r\u001b[K     |█████████████████▌              | 665 kB 29.7 MB/s eta 0:00:01\r\u001b[K     |█████████████████▉              | 675 kB 29.7 MB/s eta 0:00:01\r\u001b[K     |██████████████████              | 686 kB 29.7 MB/s eta 0:00:01\r\u001b[K     |██████████████████▍             | 696 kB 29.7 MB/s eta 0:00:01\r\u001b[K     |██████████████████▋             | 706 kB 29.7 MB/s eta 0:00:01\r\u001b[K     |███████████████████             | 716 kB 29.7 MB/s eta 0:00:01\r\u001b[K     |███████████████████▏            | 727 kB 29.7 MB/s eta 0:00:01\r\u001b[K     |███████████████████▍            | 737 kB 29.7 MB/s eta 0:00:01\r\u001b[K     |███████████████████▊            | 747 kB 29.7 MB/s eta 0:00:01\r\u001b[K     |████████████████████            | 757 kB 29.7 MB/s eta 0:00:01\r\u001b[K     |████████████████████▎           | 768 kB 29.7 MB/s eta 0:00:01\r\u001b[K     |████████████████████▌           | 778 kB 29.7 MB/s eta 0:00:01\r\u001b[K     |████████████████████▉           | 788 kB 29.7 MB/s eta 0:00:01\r\u001b[K     |█████████████████████           | 798 kB 29.7 MB/s eta 0:00:01\r\u001b[K     |█████████████████████▎          | 808 kB 29.7 MB/s eta 0:00:01\r\u001b[K     |█████████████████████▋          | 819 kB 29.7 MB/s eta 0:00:01\r\u001b[K     |█████████████████████▉          | 829 kB 29.7 MB/s eta 0:00:01\r\u001b[K     |██████████████████████▏         | 839 kB 29.7 MB/s eta 0:00:01\r\u001b[K     |██████████████████████▍         | 849 kB 29.7 MB/s eta 0:00:01\r\u001b[K     |██████████████████████▊         | 860 kB 29.7 MB/s eta 0:00:01\r\u001b[K     |███████████████████████         | 870 kB 29.7 MB/s eta 0:00:01\r\u001b[K     |███████████████████████▏        | 880 kB 29.7 MB/s eta 0:00:01\r\u001b[K     |███████████████████████▌        | 890 kB 29.7 MB/s eta 0:00:01\r\u001b[K     |███████████████████████▊        | 901 kB 29.7 MB/s eta 0:00:01\r\u001b[K     |████████████████████████        | 911 kB 29.7 MB/s eta 0:00:01\r\u001b[K     |████████████████████████▎       | 921 kB 29.7 MB/s eta 0:00:01\r\u001b[K     |████████████████████████▋       | 931 kB 29.7 MB/s eta 0:00:01\r\u001b[K     |████████████████████████▉       | 942 kB 29.7 MB/s eta 0:00:01\r\u001b[K     |█████████████████████████       | 952 kB 29.7 MB/s eta 0:00:01\r\u001b[K     |█████████████████████████▍      | 962 kB 29.7 MB/s eta 0:00:01\r\u001b[K     |█████████████████████████▋      | 972 kB 29.7 MB/s eta 0:00:01\r\u001b[K     |██████████████████████████      | 983 kB 29.7 MB/s eta 0:00:01\r\u001b[K     |██████████████████████████▏     | 993 kB 29.7 MB/s eta 0:00:01\r\u001b[K     |██████████████████████████▌     | 1.0 MB 29.7 MB/s eta 0:00:01\r\u001b[K     |██████████████████████████▊     | 1.0 MB 29.7 MB/s eta 0:00:01\r\u001b[K     |███████████████████████████     | 1.0 MB 29.7 MB/s eta 0:00:01\r\u001b[K     |███████████████████████████▎    | 1.0 MB 29.7 MB/s eta 0:00:01\r\u001b[K     |███████████████████████████▌    | 1.0 MB 29.7 MB/s eta 0:00:01\r\u001b[K     |███████████████████████████▉    | 1.1 MB 29.7 MB/s eta 0:00:01\r\u001b[K     |████████████████████████████    | 1.1 MB 29.7 MB/s eta 0:00:01\r\u001b[K     |████████████████████████████▍   | 1.1 MB 29.7 MB/s eta 0:00:01\r\u001b[K     |████████████████████████████▋   | 1.1 MB 29.7 MB/s eta 0:00:01\r\u001b[K     |████████████████████████████▉   | 1.1 MB 29.7 MB/s eta 0:00:01\r\u001b[K     |█████████████████████████████▏  | 1.1 MB 29.7 MB/s eta 0:00:01\r\u001b[K     |█████████████████████████████▍  | 1.1 MB 29.7 MB/s eta 0:00:01\r\u001b[K     |█████████████████████████████▊  | 1.1 MB 29.7 MB/s eta 0:00:01\r\u001b[K     |██████████████████████████████  | 1.1 MB 29.7 MB/s eta 0:00:01\r\u001b[K     |██████████████████████████████▎ | 1.1 MB 29.7 MB/s eta 0:00:01\r\u001b[K     |██████████████████████████████▌ | 1.2 MB 29.7 MB/s eta 0:00:01\r\u001b[K     |██████████████████████████████▊ | 1.2 MB 29.7 MB/s eta 0:00:01\r\u001b[K     |███████████████████████████████ | 1.2 MB 29.7 MB/s eta 0:00:01\r\u001b[K     |███████████████████████████████▎| 1.2 MB 29.7 MB/s eta 0:00:01\r\u001b[K     |███████████████████████████████▋| 1.2 MB 29.7 MB/s eta 0:00:01\r\u001b[K     |███████████████████████████████▉| 1.2 MB 29.7 MB/s eta 0:00:01\r\u001b[K     |████████████████████████████████| 1.2 MB 29.7 MB/s \n",
            "\u001b[?25hInstalling collected packages: sentencepiece\n",
            "Successfully installed sentencepiece-0.1.96\n"
          ],
          "name": "stdout"
        }
      ]
    },
    {
      "cell_type": "code",
      "metadata": {
        "id": "d7FiHnzdIWlZ"
      },
      "source": [
        "import sentencepiece as spm"
      ],
      "execution_count": null,
      "outputs": []
    },
    {
      "cell_type": "code",
      "metadata": {
        "colab": {
          "base_uri": "https://localhost:8080/"
        },
        "id": "Ec2xzzuGIm76",
        "outputId": "f8998a2b-3922-4fa2-c972-ebd2dca52c84"
      },
      "source": [
        "!curl -O https://raw.githubusercontent.com/LawrenceDuan/IMDb-Review-Analysis/master/IMDb_Reviews.csv"
      ],
      "execution_count": null,
      "outputs": [
        {
          "output_type": "stream",
          "text": [
            "  % Total    % Received % Xferd  Average Speed   Time    Time     Time  Current\n",
            "                                 Dload  Upload   Total   Spent    Left  Speed\n",
            "100 62.8M  100 62.8M    0     0  65.5M      0 --:--:-- --:--:-- --:--:-- 65.4M\n"
          ],
          "name": "stdout"
        }
      ]
    },
    {
      "cell_type": "code",
      "metadata": {
        "id": "sfe6NxVyI_Cz"
      },
      "source": [
        "import pandas as pd"
      ],
      "execution_count": null,
      "outputs": []
    },
    {
      "cell_type": "code",
      "metadata": {
        "colab": {
          "base_uri": "https://localhost:8080/",
          "height": 143
        },
        "id": "iki51k-LJJeD",
        "outputId": "907b0b7c-59c4-484a-bf94-36093cc51780"
      },
      "source": [
        "df_data = pd.read_csv('./IMDb_Reviews.csv')\n",
        "df_data.head(3)"
      ],
      "execution_count": null,
      "outputs": [
        {
          "output_type": "execute_result",
          "data": {
            "text/html": [
              "<div>\n",
              "<style scoped>\n",
              "    .dataframe tbody tr th:only-of-type {\n",
              "        vertical-align: middle;\n",
              "    }\n",
              "\n",
              "    .dataframe tbody tr th {\n",
              "        vertical-align: top;\n",
              "    }\n",
              "\n",
              "    .dataframe thead th {\n",
              "        text-align: right;\n",
              "    }\n",
              "</style>\n",
              "<table border=\"1\" class=\"dataframe\">\n",
              "  <thead>\n",
              "    <tr style=\"text-align: right;\">\n",
              "      <th></th>\n",
              "      <th>review</th>\n",
              "      <th>sentiment</th>\n",
              "    </tr>\n",
              "  </thead>\n",
              "  <tbody>\n",
              "    <tr>\n",
              "      <th>0</th>\n",
              "      <td>My family and I normally do not watch local mo...</td>\n",
              "      <td>1</td>\n",
              "    </tr>\n",
              "    <tr>\n",
              "      <th>1</th>\n",
              "      <td>Believe it or not, this was at one time the wo...</td>\n",
              "      <td>0</td>\n",
              "    </tr>\n",
              "    <tr>\n",
              "      <th>2</th>\n",
              "      <td>After some internet surfing, I found the \"Home...</td>\n",
              "      <td>0</td>\n",
              "    </tr>\n",
              "  </tbody>\n",
              "</table>\n",
              "</div>"
            ],
            "text/plain": [
              "                                              review  sentiment\n",
              "0  My family and I normally do not watch local mo...          1\n",
              "1  Believe it or not, this was at one time the wo...          0\n",
              "2  After some internet surfing, I found the \"Home...          0"
            ]
          },
          "metadata": {},
          "execution_count": 6
        }
      ]
    },
    {
      "cell_type": "code",
      "metadata": {
        "colab": {
          "base_uri": "https://localhost:8080/"
        },
        "id": "bxtotV0eL18D",
        "outputId": "61bd515d-87a2-43af-9160-977f6675ff52"
      },
      "source": [
        "df_data.info()"
      ],
      "execution_count": null,
      "outputs": [
        {
          "output_type": "stream",
          "text": [
            "<class 'pandas.core.frame.DataFrame'>\n",
            "RangeIndex: 50000 entries, 0 to 49999\n",
            "Data columns (total 2 columns):\n",
            " #   Column     Non-Null Count  Dtype \n",
            "---  ------     --------------  ----- \n",
            " 0   review     50000 non-null  object\n",
            " 1   sentiment  50000 non-null  int64 \n",
            "dtypes: int64(1), object(1)\n",
            "memory usage: 781.4+ KB\n"
          ],
          "name": "stdout"
        }
      ]
    },
    {
      "cell_type": "code",
      "metadata": {
        "id": "cN4iiiXHLt-b"
      },
      "source": [
        "df_data = df_data[0:2000]"
      ],
      "execution_count": null,
      "outputs": []
    },
    {
      "cell_type": "code",
      "metadata": {
        "id": "jwxGFBjMJhZD"
      },
      "source": [
        "with open('./imdb_review.txt','w') as f:\n",
        "  f.write('\\n'.join(df_data['review']))"
      ],
      "execution_count": null,
      "outputs": []
    },
    {
      "cell_type": "code",
      "metadata": {
        "id": "F-ShjkRBLMPZ"
      },
      "source": [
        "spm.SentencePieceTrainer.Train('--input=./imdb_review.txt --model_prefix=imdb --vocab_size=5000 --model_type=bpe --max_sentence_length=9999')"
      ],
      "execution_count": null,
      "outputs": []
    },
    {
      "cell_type": "code",
      "metadata": {
        "id": "Sn7u1b-XN_b7"
      },
      "source": [
        "import csv"
      ],
      "execution_count": null,
      "outputs": []
    },
    {
      "cell_type": "code",
      "metadata": {
        "id": "vwug3jAmMk0z"
      },
      "source": [
        "df_vocab = pd.read_csv('./imdb.vocab', sep='\\t', quoting=csv.QUOTE_NONE, header=None)\n",
        "df_vocab.sample(10)"
      ],
      "execution_count": null,
      "outputs": []
    },
    {
      "cell_type": "code",
      "metadata": {
        "id": "rUWNy5DDN3iM"
      },
      "source": [
        "df_vocab.head(7)"
      ],
      "execution_count": null,
      "outputs": []
    },
    {
      "cell_type": "code",
      "metadata": {
        "colab": {
          "base_uri": "https://localhost:8080/"
        },
        "id": "LzwU44T1OsBY",
        "outputId": "060b88c2-2ba9-43e8-f82f-09cef0df9b38"
      },
      "source": [
        "spp = spm.SentencePieceProcessor()\n",
        "spp.load('./imdb.model')"
      ],
      "execution_count": null,
      "outputs": [
        {
          "output_type": "execute_result",
          "data": {
            "text/plain": [
              "True"
            ]
          },
          "metadata": {},
          "execution_count": 24
        }
      ]
    },
    {
      "cell_type": "code",
      "metadata": {
        "id": "RCA21PmOP-Ua"
      },
      "source": [
        "line01 = \"I didn't at all think of it this way.\""
      ],
      "execution_count": null,
      "outputs": []
    },
    {
      "cell_type": "code",
      "metadata": {
        "colab": {
          "base_uri": "https://localhost:8080/"
        },
        "id": "kbLvrnCaQPVa",
        "outputId": "2524eb31-0bac-4e41-f2c2-5645a71169d7"
      },
      "source": [
        "print(spp.encode_as_pieces(line01))"
      ],
      "execution_count": null,
      "outputs": [
        {
          "output_type": "stream",
          "text": [
            "['▁I', '▁didn', \"'\", 't', '▁at', '▁all', '▁think', '▁of', '▁it', '▁this', '▁way', '.']\n"
          ],
          "name": "stdout"
        }
      ]
    },
    {
      "cell_type": "code",
      "metadata": {
        "colab": {
          "base_uri": "https://localhost:8080/"
        },
        "id": "oV0ihu0QQcAC",
        "outputId": "937b24ab-8e8e-4a5a-8394-bb87d94b7c4a"
      },
      "source": [
        "print(spp.encode_as_ids(line01))"
      ],
      "execution_count": null,
      "outputs": [
        {
          "output_type": "stream",
          "text": [
            "[40, 588, 4949, 4926, 136, 175, 400, 30, 56, 77, 418, 4945]\n"
          ],
          "name": "stdout"
        }
      ]
    },
    {
      "cell_type": "code",
      "metadata": {
        "id": "MnnGg2U1Q-pa"
      },
      "source": [
        ""
      ],
      "execution_count": null,
      "outputs": []
    }
  ]
}