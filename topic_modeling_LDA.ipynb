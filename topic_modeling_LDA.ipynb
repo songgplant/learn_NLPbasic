{
  "nbformat": 4,
  "nbformat_minor": 0,
  "metadata": {
    "colab": {
      "name": "topic_modeling_LDA.ipynb",
      "provenance": [],
      "collapsed_sections": [],
      "authorship_tag": "ABX9TyOd+wCzX33OZygRXnyAUcNF"
    },
    "kernelspec": {
      "name": "python3",
      "display_name": "Python 3"
    },
    "language_info": {
      "name": "python"
    }
  },
  "cells": [
    {
      "cell_type": "markdown",
      "metadata": {
        "id": "aIMam2u55uBV"
      },
      "source": [
        "from https://wikidocs.net/30707\n",
        "\n",
        "\n",
        "1.   15년간 발행된 뉴스 기사 제목\n",
        "\n"
      ]
    },
    {
      "cell_type": "markdown",
      "metadata": {
        "id": "o5HGfAQvNvzd"
      },
      "source": [
        "실행 오래걸리면 데이터 축약해서 일부만 돌리기\n",
        "- df_data = pd.read_csv('./abcnews-date-text.csv')\n",
        "- df_data= df_data.head(10000)"
      ]
    },
    {
      "cell_type": "code",
      "metadata": {
        "colab": {
          "base_uri": "https://localhost:8080/"
        },
        "id": "h9ogDxaV5VFe",
        "outputId": "b68a5f57-fb0f-4511-8535-1f5a156abecf"
      },
      "source": [
        "!curl -O https://raw.githubusercontent.com/franciscadias/data/master/abcnews-date-text.csv"
      ],
      "execution_count": null,
      "outputs": [
        {
          "output_type": "stream",
          "text": [
            "  % Total    % Received % Xferd  Average Speed   Time    Time     Time  Current\n",
            "                                 Dload  Upload   Total   Spent    Left  Speed\n",
            "100 51.5M  100 51.5M    0     0   115M      0 --:--:-- --:--:-- --:--:--  115M\n"
          ],
          "name": "stdout"
        }
      ]
    },
    {
      "cell_type": "code",
      "metadata": {
        "id": "ZxYtDzjO56gl"
      },
      "source": [
        "import pandas as pd"
      ],
      "execution_count": null,
      "outputs": []
    },
    {
      "cell_type": "code",
      "metadata": {
        "colab": {
          "base_uri": "https://localhost:8080/",
          "height": 202
        },
        "id": "HlhQ5QaH6M6c",
        "outputId": "6fd4be42-0fef-4259-f1c6-c24b0be92201"
      },
      "source": [
        "df_data = pd.read_csv('./abcnews-date-text.csv')\n",
        "df_data= df_data.head(10000)\n",
        "df_data.head(5)"
      ],
      "execution_count": null,
      "outputs": [
        {
          "output_type": "execute_result",
          "data": {
            "text/html": [
              "<div>\n",
              "<style scoped>\n",
              "    .dataframe tbody tr th:only-of-type {\n",
              "        vertical-align: middle;\n",
              "    }\n",
              "\n",
              "    .dataframe tbody tr th {\n",
              "        vertical-align: top;\n",
              "    }\n",
              "\n",
              "    .dataframe thead th {\n",
              "        text-align: right;\n",
              "    }\n",
              "</style>\n",
              "<table border=\"1\" class=\"dataframe\">\n",
              "  <thead>\n",
              "    <tr style=\"text-align: right;\">\n",
              "      <th></th>\n",
              "      <th>publish_date</th>\n",
              "      <th>headline_text</th>\n",
              "    </tr>\n",
              "  </thead>\n",
              "  <tbody>\n",
              "    <tr>\n",
              "      <th>0</th>\n",
              "      <td>20030219</td>\n",
              "      <td>aba decides against community broadcasting lic...</td>\n",
              "    </tr>\n",
              "    <tr>\n",
              "      <th>1</th>\n",
              "      <td>20030219</td>\n",
              "      <td>act fire witnesses must be aware of defamation</td>\n",
              "    </tr>\n",
              "    <tr>\n",
              "      <th>2</th>\n",
              "      <td>20030219</td>\n",
              "      <td>a g calls for infrastructure protection summit</td>\n",
              "    </tr>\n",
              "    <tr>\n",
              "      <th>3</th>\n",
              "      <td>20030219</td>\n",
              "      <td>air nz staff in aust strike for pay rise</td>\n",
              "    </tr>\n",
              "    <tr>\n",
              "      <th>4</th>\n",
              "      <td>20030219</td>\n",
              "      <td>air nz strike to affect australian travellers</td>\n",
              "    </tr>\n",
              "  </tbody>\n",
              "</table>\n",
              "</div>"
            ],
            "text/plain": [
              "   publish_date                                      headline_text\n",
              "0      20030219  aba decides against community broadcasting lic...\n",
              "1      20030219     act fire witnesses must be aware of defamation\n",
              "2      20030219     a g calls for infrastructure protection summit\n",
              "3      20030219           air nz staff in aust strike for pay rise\n",
              "4      20030219      air nz strike to affect australian travellers"
            ]
          },
          "metadata": {},
          "execution_count": 22
        }
      ]
    },
    {
      "cell_type": "markdown",
      "metadata": {
        "id": "aHBL-tFU6jqN"
      },
      "source": [
        "headline만 필요하고 전처리를 진행한다"
      ]
    },
    {
      "cell_type": "code",
      "metadata": {
        "colab": {
          "base_uri": "https://localhost:8080/"
        },
        "id": "KjULCsmM6Y0P",
        "outputId": "f0c32a86-aee5-489b-d41e-9d0342f829ed"
      },
      "source": [
        "head_text = df_data[['headline_text']]\n",
        "type(head_text)"
      ],
      "execution_count": null,
      "outputs": [
        {
          "output_type": "execute_result",
          "data": {
            "text/plain": [
              "pandas.core.frame.DataFrame"
            ]
          },
          "metadata": {},
          "execution_count": 23
        }
      ]
    },
    {
      "cell_type": "code",
      "metadata": {
        "colab": {
          "base_uri": "https://localhost:8080/"
        },
        "id": "mMP5UwTv-UV1",
        "outputId": "152b18f5-d08b-4c38-b6b1-1c7f9064715c"
      },
      "source": [
        "import nltk\n",
        "nltk.download('punkt')"
      ],
      "execution_count": null,
      "outputs": [
        {
          "output_type": "stream",
          "text": [
            "[nltk_data] Downloading package punkt to /root/nltk_data...\n",
            "[nltk_data]   Package punkt is already up-to-date!\n"
          ],
          "name": "stdout"
        },
        {
          "output_type": "execute_result",
          "data": {
            "text/plain": [
              "True"
            ]
          },
          "metadata": {},
          "execution_count": 24
        }
      ]
    },
    {
      "cell_type": "markdown",
      "metadata": {
        "id": "Nq4JjGeh_Tcp"
      },
      "source": [
        "- apply안에 function을 넣는다. 파이썬에서 map과 동일함\n",
        "- row는 문장 하나, head에 문장을 각각 적용"
      ]
    },
    {
      "cell_type": "code",
      "metadata": {
        "colab": {
          "base_uri": "https://localhost:8080/"
        },
        "id": "qqWSysAc-5Px",
        "outputId": "3781a4b9-2639-4215-db43-82af4a1ad4a8"
      },
      "source": [
        "head_text.apply(lambda row:nltk.word_tokenize(row['headline_text']), axis=1) # map()"
      ],
      "execution_count": null,
      "outputs": [
        {
          "output_type": "execute_result",
          "data": {
            "text/plain": [
              "0       [aba, decides, against, community, broadcastin...\n",
              "1       [act, fire, witnesses, must, be, aware, of, de...\n",
              "2       [a, g, calls, for, infrastructure, protection,...\n",
              "3       [air, nz, staff, in, aust, strike, for, pay, r...\n",
              "4       [air, nz, strike, to, affect, australian, trav...\n",
              "                              ...                        \n",
              "9995    [us, units, attack, palace, as, fighting, rage...\n",
              "9996    [vasco, win, 10, goal, thriller, in, brazil, o...\n",
              "9997                    [vic, bushfires, inquiry, begins]\n",
              "9998      [vic, govt, plan, aims, to, reduce, water, use]\n",
              "9999    [vic, govt, urged, to, green, light, marina, p...\n",
              "Length: 10000, dtype: object"
            ]
          },
          "metadata": {},
          "execution_count": 25
        }
      ]
    },
    {
      "cell_type": "code",
      "metadata": {
        "colab": {
          "base_uri": "https://localhost:8080/",
          "height": 141
        },
        "id": "vjZ9OLlWACOx",
        "outputId": "9983735a-f8be-40be-bb84-f808e2371b82"
      },
      "source": [
        "head_text['title_text'] = head_text.apply(lambda row:nltk.word_tokenize(row['headline_text']), axis=1) # map()\n",
        "head_text.head(3)"
      ],
      "execution_count": null,
      "outputs": [
        {
          "output_type": "execute_result",
          "data": {
            "text/html": [
              "<div>\n",
              "<style scoped>\n",
              "    .dataframe tbody tr th:only-of-type {\n",
              "        vertical-align: middle;\n",
              "    }\n",
              "\n",
              "    .dataframe tbody tr th {\n",
              "        vertical-align: top;\n",
              "    }\n",
              "\n",
              "    .dataframe thead th {\n",
              "        text-align: right;\n",
              "    }\n",
              "</style>\n",
              "<table border=\"1\" class=\"dataframe\">\n",
              "  <thead>\n",
              "    <tr style=\"text-align: right;\">\n",
              "      <th></th>\n",
              "      <th>headline_text</th>\n",
              "      <th>title_text</th>\n",
              "    </tr>\n",
              "  </thead>\n",
              "  <tbody>\n",
              "    <tr>\n",
              "      <th>0</th>\n",
              "      <td>aba decides against community broadcasting lic...</td>\n",
              "      <td>[aba, decides, against, community, broadcastin...</td>\n",
              "    </tr>\n",
              "    <tr>\n",
              "      <th>1</th>\n",
              "      <td>act fire witnesses must be aware of defamation</td>\n",
              "      <td>[act, fire, witnesses, must, be, aware, of, de...</td>\n",
              "    </tr>\n",
              "    <tr>\n",
              "      <th>2</th>\n",
              "      <td>a g calls for infrastructure protection summit</td>\n",
              "      <td>[a, g, calls, for, infrastructure, protection,...</td>\n",
              "    </tr>\n",
              "  </tbody>\n",
              "</table>\n",
              "</div>"
            ],
            "text/plain": [
              "                                       headline_text                                         title_text\n",
              "0  aba decides against community broadcasting lic...  [aba, decides, against, community, broadcastin...\n",
              "1     act fire witnesses must be aware of defamation  [act, fire, witnesses, must, be, aware, of, de...\n",
              "2     a g calls for infrastructure protection summit  [a, g, calls, for, infrastructure, protection,..."
            ]
          },
          "metadata": {},
          "execution_count": 26
        }
      ]
    },
    {
      "cell_type": "markdown",
      "metadata": {
        "id": "oUe3OHUDA5pw"
      },
      "source": [
        "## 불용어처리\n",
        "apply로 처리하기. 쓸데없는 a, the, of, as 등"
      ]
    },
    {
      "cell_type": "code",
      "metadata": {
        "colab": {
          "base_uri": "https://localhost:8080/"
        },
        "id": "cwHTfUU8A4Py",
        "outputId": "d5e7c574-19bb-47c1-cd7a-324e1c14a196"
      },
      "source": [
        "from nltk.corpus import stopwords\n",
        "nltk.download('stopwords')\n",
        "stop = stopwords.words('english')\n",
        "print(stop)"
      ],
      "execution_count": null,
      "outputs": [
        {
          "output_type": "stream",
          "text": [
            "[nltk_data] Downloading package stopwords to /root/nltk_data...\n",
            "[nltk_data]   Package stopwords is already up-to-date!\n",
            "['i', 'me', 'my', 'myself', 'we', 'our', 'ours', 'ourselves', 'you', \"you're\", \"you've\", \"you'll\", \"you'd\", 'your', 'yours', 'yourself', 'yourselves', 'he', 'him', 'his', 'himself', 'she', \"she's\", 'her', 'hers', 'herself', 'it', \"it's\", 'its', 'itself', 'they', 'them', 'their', 'theirs', 'themselves', 'what', 'which', 'who', 'whom', 'this', 'that', \"that'll\", 'these', 'those', 'am', 'is', 'are', 'was', 'were', 'be', 'been', 'being', 'have', 'has', 'had', 'having', 'do', 'does', 'did', 'doing', 'a', 'an', 'the', 'and', 'but', 'if', 'or', 'because', 'as', 'until', 'while', 'of', 'at', 'by', 'for', 'with', 'about', 'against', 'between', 'into', 'through', 'during', 'before', 'after', 'above', 'below', 'to', 'from', 'up', 'down', 'in', 'out', 'on', 'off', 'over', 'under', 'again', 'further', 'then', 'once', 'here', 'there', 'when', 'where', 'why', 'how', 'all', 'any', 'both', 'each', 'few', 'more', 'most', 'other', 'some', 'such', 'no', 'nor', 'not', 'only', 'own', 'same', 'so', 'than', 'too', 'very', 's', 't', 'can', 'will', 'just', 'don', \"don't\", 'should', \"should've\", 'now', 'd', 'll', 'm', 'o', 're', 've', 'y', 'ain', 'aren', \"aren't\", 'couldn', \"couldn't\", 'didn', \"didn't\", 'doesn', \"doesn't\", 'hadn', \"hadn't\", 'hasn', \"hasn't\", 'haven', \"haven't\", 'isn', \"isn't\", 'ma', 'mightn', \"mightn't\", 'mustn', \"mustn't\", 'needn', \"needn't\", 'shan', \"shan't\", 'shouldn', \"shouldn't\", 'wasn', \"wasn't\", 'weren', \"weren't\", 'won', \"won't\", 'wouldn', \"wouldn't\"]\n"
          ],
          "name": "stdout"
        }
      ]
    },
    {
      "cell_type": "markdown",
      "metadata": {
        "id": "7SCaq1pKD0Vn"
      },
      "source": [
        "좋은 코드에서 함수를 안 만들고 lambda를 쓰는 이유, 공부해야 하는 이유"
      ]
    },
    {
      "cell_type": "code",
      "metadata": {
        "id": "tx4yMGAyBa-M"
      },
      "source": [
        "def stopWord(x) :\n",
        "  result = []\n",
        "  for word in x :\n",
        "    if word not in stop or len(word) >= 3 : # 불용어가 아니라면\n",
        "      titles.apply(word)\n",
        "  return result\n",
        "\n",
        "def callStopWord(head_text) :\n",
        "  titles = []\n",
        "  for x in head_text['title_text'] :\n",
        "    titles.apply(stopWord(x))\n",
        "  return titles"
      ],
      "execution_count": null,
      "outputs": []
    },
    {
      "cell_type": "code",
      "metadata": {
        "colab": {
          "base_uri": "https://localhost:8080/",
          "height": 218
        },
        "id": "OF_NiGcVEC7u",
        "outputId": "7f28b514-bd52-439e-dec9-f73914fc8feb"
      },
      "source": [
        "# 라인 하나로 끝내기\n",
        "head_text['title'] = head_text['title_text'].apply(lambda x : [word for word in x if (len(word) > 3) if (word not in stop)])\n",
        "head_text.head(5)\n",
        "# head_text['title'] = head_text['title_text'].apply(lambda x: [ word for word in x if (len(word) > 3) if (word not in stop)])\n"
      ],
      "execution_count": null,
      "outputs": [
        {
          "output_type": "execute_result",
          "data": {
            "text/html": [
              "<div>\n",
              "<style scoped>\n",
              "    .dataframe tbody tr th:only-of-type {\n",
              "        vertical-align: middle;\n",
              "    }\n",
              "\n",
              "    .dataframe tbody tr th {\n",
              "        vertical-align: top;\n",
              "    }\n",
              "\n",
              "    .dataframe thead th {\n",
              "        text-align: right;\n",
              "    }\n",
              "</style>\n",
              "<table border=\"1\" class=\"dataframe\">\n",
              "  <thead>\n",
              "    <tr style=\"text-align: right;\">\n",
              "      <th></th>\n",
              "      <th>headline_text</th>\n",
              "      <th>title_text</th>\n",
              "      <th>title</th>\n",
              "    </tr>\n",
              "  </thead>\n",
              "  <tbody>\n",
              "    <tr>\n",
              "      <th>0</th>\n",
              "      <td>aba decides against community broadcasting lic...</td>\n",
              "      <td>[aba, decides, against, community, broadcastin...</td>\n",
              "      <td>[decides, community, broadcasting, licence]</td>\n",
              "    </tr>\n",
              "    <tr>\n",
              "      <th>1</th>\n",
              "      <td>act fire witnesses must be aware of defamation</td>\n",
              "      <td>[act, fire, witnesses, must, be, aware, of, de...</td>\n",
              "      <td>[fire, witnesses, must, aware, defamation]</td>\n",
              "    </tr>\n",
              "    <tr>\n",
              "      <th>2</th>\n",
              "      <td>a g calls for infrastructure protection summit</td>\n",
              "      <td>[a, g, calls, for, infrastructure, protection,...</td>\n",
              "      <td>[calls, infrastructure, protection, summit]</td>\n",
              "    </tr>\n",
              "    <tr>\n",
              "      <th>3</th>\n",
              "      <td>air nz staff in aust strike for pay rise</td>\n",
              "      <td>[air, nz, staff, in, aust, strike, for, pay, r...</td>\n",
              "      <td>[staff, aust, strike, rise]</td>\n",
              "    </tr>\n",
              "    <tr>\n",
              "      <th>4</th>\n",
              "      <td>air nz strike to affect australian travellers</td>\n",
              "      <td>[air, nz, strike, to, affect, australian, trav...</td>\n",
              "      <td>[strike, affect, australian, travellers]</td>\n",
              "    </tr>\n",
              "  </tbody>\n",
              "</table>\n",
              "</div>"
            ],
            "text/plain": [
              "                                       headline_text  ...                                        title\n",
              "0  aba decides against community broadcasting lic...  ...  [decides, community, broadcasting, licence]\n",
              "1     act fire witnesses must be aware of defamation  ...   [fire, witnesses, must, aware, defamation]\n",
              "2     a g calls for infrastructure protection summit  ...  [calls, infrastructure, protection, summit]\n",
              "3           air nz staff in aust strike for pay rise  ...                  [staff, aust, strike, rise]\n",
              "4      air nz strike to affect australian travellers  ...     [strike, affect, australian, travellers]\n",
              "\n",
              "[5 rows x 3 columns]"
            ]
          },
          "metadata": {},
          "execution_count": 28
        }
      ]
    },
    {
      "cell_type": "code",
      "metadata": {
        "colab": {
          "base_uri": "https://localhost:8080/"
        },
        "id": "XCwbOp8ZHFQ2",
        "outputId": "504a63bb-d030-4851-8063-4fef18206d8f"
      },
      "source": [
        "head_text['title'][3]"
      ],
      "execution_count": null,
      "outputs": [
        {
          "output_type": "execute_result",
          "data": {
            "text/plain": [
              "['staff', 'aust', 'strike', 'rise']"
            ]
          },
          "metadata": {},
          "execution_count": 29
        }
      ]
    },
    {
      "cell_type": "code",
      "metadata": {
        "colab": {
          "base_uri": "https://localhost:8080/"
        },
        "id": "PmbaIuw1GscZ",
        "outputId": "252212ab-0718-4a46-aada-6b0e9e0e9bdb"
      },
      "source": [
        "# tokens = []\n",
        "# for i in range(len(head_text)) : # 개수만큼 돌리기\n",
        "#   tokens.append(head_text['title'][i])\n",
        "# tokens[3:5]\n",
        "# tokens 결과 = 리스트의 요소로 들어가있는 것\n",
        "\n",
        "tokens = []\n",
        "for i in  range(len(head_text)):\n",
        "  tokens.append(' '.join(head_text['title'][i]))\n",
        "\n",
        "tokens[3:5]"
      ],
      "execution_count": null,
      "outputs": [
        {
          "output_type": "execute_result",
          "data": {
            "text/plain": [
              "['staff aust strike rise', 'strike affect australian travellers']"
            ]
          },
          "metadata": {},
          "execution_count": 30
        }
      ]
    },
    {
      "cell_type": "code",
      "metadata": {
        "id": "Ve1detSqEt6k"
      },
      "source": [
        "from sklearn.feature_extraction.text import TfidfVectorizer"
      ],
      "execution_count": null,
      "outputs": []
    },
    {
      "cell_type": "code",
      "metadata": {
        "colab": {
          "base_uri": "https://localhost:8080/"
        },
        "id": "8mtitxQSFq2A",
        "outputId": "33559d77-db39-4bfb-975c-fe52e732ce46"
      },
      "source": [
        "tfidf = TfidfVectorizer(max_features=1000)\n",
        "X = tfidf.fit_transform(tokens) # 괄호 안에 리스트 형태로 놓어야 함\n",
        "X.shape"
      ],
      "execution_count": null,
      "outputs": [
        {
          "output_type": "execute_result",
          "data": {
            "text/plain": [
              "(10000, 1000)"
            ]
          },
          "metadata": {},
          "execution_count": 32
        }
      ]
    },
    {
      "cell_type": "code",
      "metadata": {
        "id": "z1GOuLl0ISsM"
      },
      "source": [
        "X[4].toarray() # 모든 단어 0의 파도 중에 벡터값 1개 존재하면 된 것"
      ],
      "execution_count": null,
      "outputs": []
    },
    {
      "cell_type": "markdown",
      "metadata": {
        "id": "3Z31IxM0I3pv"
      },
      "source": [
        ""
      ]
    },
    {
      "cell_type": "code",
      "metadata": {
        "id": "TqbQgJ0jIYYC"
      },
      "source": [
        "from sklearn.decomposition import LatentDirichletAllocation"
      ],
      "execution_count": null,
      "outputs": []
    },
    {
      "cell_type": "code",
      "metadata": {
        "id": "ceWkJh1gI5Fs"
      },
      "source": [
        "#클래스 생성\n",
        "lda_model = LatentDirichletAllocation()"
      ],
      "execution_count": null,
      "outputs": []
    },
    {
      "cell_type": "code",
      "metadata": {
        "id": "zhrtff_xMyE_"
      },
      "source": [
        "lda_top = lda_model.fit_transform(X)"
      ],
      "execution_count": null,
      "outputs": []
    },
    {
      "cell_type": "code",
      "metadata": {
        "colab": {
          "base_uri": "https://localhost:8080/"
        },
        "id": "ljMmWegnNAP4",
        "outputId": "d4e67348-2b01-48db-de7c-fac015281bff"
      },
      "source": [
        "lda_model.components_, lda_model.components_.shape"
      ],
      "execution_count": null,
      "outputs": [
        {
          "output_type": "execute_result",
          "data": {
            "text/plain": [
              "(array([[ 0.10000177,  1.27666656,  0.10000078, ...,  0.10000661,\n",
              "          0.10000087, 17.69070612],\n",
              "        [ 0.10001054,  0.1       ,  0.1       , ...,  0.10001212,\n",
              "          4.37403806,  0.10000024],\n",
              "        [ 0.10000389,  0.10000391,  0.10000898, ...,  0.10001314,\n",
              "          0.10000631,  0.10001024],\n",
              "        ...,\n",
              "        [ 0.1000055 ,  0.1       ,  0.10000163, ...,  0.10000578,\n",
              "          0.10001023,  0.12498743],\n",
              "        [ 0.10000552,  0.10001035,  0.10000233, ...,  0.10000222,\n",
              "          8.13983627,  0.1000062 ],\n",
              "        [11.66033992,  0.10000058,  0.10000262, ...,  0.10000206,\n",
              "          0.10000417,  0.10000479]]), (10, 1000))"
            ]
          },
          "metadata": {},
          "execution_count": 37
        }
      ]
    },
    {
      "cell_type": "code",
      "metadata": {
        "id": "8QicpHU2NXHh"
      },
      "source": [
        "terms = tfidf.get_feature_names()\n",
        "# 단어의 모음들이 나오게 된다."
      ],
      "execution_count": null,
      "outputs": []
    },
    {
      "cell_type": "code",
      "metadata": {
        "colab": {
          "base_uri": "https://localhost:8080/"
        },
        "id": "xAXkP_ZvN67c",
        "outputId": "5116e834-847d-47da-da71-8b441ee5600e"
      },
      "source": [
        "n = 5\n",
        "for idx, topic in enumerate(lda_model.components_):\n",
        "  print([(terms[i], topic[i]) for i in topic.argsort()[:-n-1:-1]])"
      ],
      "execution_count": null,
      "outputs": [
        {
          "output_type": "stream",
          "text": [
            "[('forces', 31.121366733147784), ('work', 29.603471864568196), ('final', 26.218805504005896), ('missing', 25.665467683976654), ('british', 24.980125762444647)]\n",
            "[('water', 58.327460983058494), ('plan', 55.81804340052655), ('baghdad', 47.0322016939587), ('urged', 39.19552741881349), ('funds', 34.39805260050762)]\n",
            "[('season', 33.28653768259262), ('open', 32.913393983101166), ('troops', 32.25798988799342), ('centre', 24.75890494419914), ('lead', 24.65677032809728)]\n",
            "[('crash', 40.12068699540526), ('dies', 35.0923738848141), ('fire', 33.32920566246947), ('injured', 32.01079006931313), ('peace', 28.968799313276506)]\n",
            "[('court', 51.571961453968655), ('back', 51.194322004231346), ('found', 33.313133486812085), ('murder', 31.88561716276289), ('says', 30.407022151701177)]\n",
            "[('iraq', 87.20284470648772), ('council', 46.343145037180975), ('still', 39.0677385463492), ('saddam', 35.58978497864615), ('report', 35.57310670786619)]\n",
            "[('denies', 37.30670242554075), ('clash', 36.22266153886188), ('plans', 30.88315320146859), ('wins', 25.108801829364648), ('claim', 24.14240067990275)]\n",
            "[('claims', 37.845109665397686), ('world', 33.495658949262385), ('three', 30.74712193947413), ('govt', 28.16438021036374), ('title', 27.993173313067985)]\n",
            "[('anti', 60.23234661406544), ('hospital', 52.58354006396903), ('rain', 38.50736713761092), ('protest', 36.34782999888704), ('protesters', 34.34773240271157)]\n",
            "[('police', 55.77840501429268), ('death', 41.476628775825205), ('drought', 36.84893248677245), ('coast', 35.31016394268905), ('trial', 30.19787908536214)]\n"
          ],
          "name": "stdout"
        }
      ]
    },
    {
      "cell_type": "code",
      "metadata": {
        "id": "jkgXMz50QUz6"
      },
      "source": [
        ""
      ],
      "execution_count": null,
      "outputs": []
    }
  ]
}